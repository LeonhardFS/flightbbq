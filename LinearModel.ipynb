{
 "cells": [
  {
   "cell_type": "markdown",
   "metadata": {},
   "source": [
    "### Linear Regression Prediction"
   ]
  },
  {
   "cell_type": "code",
   "execution_count": 98,
   "metadata": {
    "collapsed": true
   },
   "outputs": [],
   "source": [
    "%matplotlib inline\n",
    "# import required modules for prediction tasks\n",
    "import numpy as np\n",
    "import pandas as pd\n",
    "import math\n",
    "import random\n",
    "import requests\n",
    "import zipfile\n",
    "import StringIO\n",
    "import re\n",
    "import json\n",
    "import os"
   ]
  },
  {
   "cell_type": "code",
   "execution_count": 99,
   "metadata": {
    "collapsed": false
   },
   "outputs": [],
   "source": [
    "# load data\n",
    "df = pd.read_csv('cache/linear_model_data.csv')"
   ]
  },
  {
   "cell_type": "markdown",
   "metadata": {},
   "source": [
    "For our model, we need only some columns"
   ]
  },
  {
   "cell_type": "code",
   "execution_count": 100,
   "metadata": {
    "collapsed": false
   },
   "outputs": [
    {
     "data": {
      "text/html": [
       "<div>\n",
       "<table border=\"1\" class=\"dataframe\">\n",
       "  <thead>\n",
       "    <tr style=\"text-align: right;\">\n",
       "      <th></th>\n",
       "      <th>Unnamed: 0</th>\n",
       "      <th>index</th>\n",
       "      <th>FL_DATE</th>\n",
       "      <th>UNIQUE_CARRIER</th>\n",
       "      <th>ORIGIN</th>\n",
       "      <th>DEST</th>\n",
       "      <th>CRS_DEP_TIME</th>\n",
       "      <th>CRS_ARR_TIME</th>\n",
       "      <th>ARR_DELAY</th>\n",
       "      <th>DISTANCE</th>\n",
       "      <th>ORIGIN_CITY_NAME</th>\n",
       "      <th>DEST_CITY_NAME</th>\n",
       "      <th>AIRCRAFT_YEAR</th>\n",
       "      <th>AIRCRAFT_MFR</th>\n",
       "      <th>LAT</th>\n",
       "      <th>LONG</th>\n",
       "    </tr>\n",
       "  </thead>\n",
       "  <tbody>\n",
       "    <tr>\n",
       "      <th>0</th>\n",
       "      <td>0</td>\n",
       "      <td>0</td>\n",
       "      <td>2014-01-01</td>\n",
       "      <td>AA</td>\n",
       "      <td>JFK</td>\n",
       "      <td>LAX</td>\n",
       "      <td>900</td>\n",
       "      <td>1225</td>\n",
       "      <td>13</td>\n",
       "      <td>2475</td>\n",
       "      <td>New York, NY</td>\n",
       "      <td>Los Angeles, CA</td>\n",
       "      <td>1987</td>\n",
       "      <td>BOEING</td>\n",
       "      <td>40.633333</td>\n",
       "      <td>-73.783333</td>\n",
       "    </tr>\n",
       "    <tr>\n",
       "      <th>1</th>\n",
       "      <td>1</td>\n",
       "      <td>1</td>\n",
       "      <td>2014-01-02</td>\n",
       "      <td>AA</td>\n",
       "      <td>JFK</td>\n",
       "      <td>LAX</td>\n",
       "      <td>900</td>\n",
       "      <td>1225</td>\n",
       "      <td>1</td>\n",
       "      <td>2475</td>\n",
       "      <td>New York, NY</td>\n",
       "      <td>Los Angeles, CA</td>\n",
       "      <td>1987</td>\n",
       "      <td>BOEING</td>\n",
       "      <td>40.633333</td>\n",
       "      <td>-73.783333</td>\n",
       "    </tr>\n",
       "  </tbody>\n",
       "</table>\n",
       "</div>"
      ],
      "text/plain": [
       "   Unnamed: 0  index     FL_DATE UNIQUE_CARRIER ORIGIN DEST  CRS_DEP_TIME  \\\n",
       "0           0      0  2014-01-01             AA    JFK  LAX           900   \n",
       "1           1      1  2014-01-02             AA    JFK  LAX           900   \n",
       "\n",
       "   CRS_ARR_TIME  ARR_DELAY  DISTANCE ORIGIN_CITY_NAME   DEST_CITY_NAME  \\\n",
       "0          1225         13      2475     New York, NY  Los Angeles, CA   \n",
       "1          1225          1      2475     New York, NY  Los Angeles, CA   \n",
       "\n",
       "  AIRCRAFT_YEAR                    AIRCRAFT_MFR        LAT       LONG  \n",
       "0          1987  BOEING                          40.633333 -73.783333  \n",
       "1          1987  BOEING                          40.633333 -73.783333  "
      ]
     },
     "execution_count": 100,
     "metadata": {},
     "output_type": "execute_result"
    }
   ],
   "source": [
    "df.head(2)"
   ]
  },
  {
   "cell_type": "markdown",
   "metadata": {},
   "source": [
    "In our model, we want to use the age of aircrafts as variable. Unfortunately, for some aircrafts data is not available. A quick chck reveals that around 2.5% of all rows are affected(4M in total). We remove thet data."
   ]
  },
  {
   "cell_type": "code",
   "execution_count": 101,
   "metadata": {
    "collapsed": false
   },
   "outputs": [
    {
     "data": {
      "text/plain": [
       "2.358077559760376"
      ]
     },
     "execution_count": 101,
     "metadata": {},
     "output_type": "execute_result"
    }
   ],
   "source": [
    "df[df['AIRCRAFT_YEAR']=='    '].count()[0] * 100. / df.count()[0]"
   ]
  },
  {
   "cell_type": "code",
   "execution_count": 102,
   "metadata": {
    "collapsed": true
   },
   "outputs": [],
   "source": [
    "df = df[df['AIRCRAFT_YEAR'] != '    ']"
   ]
  },
  {
   "cell_type": "markdown",
   "metadata": {},
   "source": [
    "Using the aircraft year, we compute the age of the planes (note that all data used is from 2014!)"
   ]
  },
  {
   "cell_type": "code",
   "execution_count": 103,
   "metadata": {
    "collapsed": false
   },
   "outputs": [],
   "source": [
    "# add manually a new column aircraft age (data is from 2014, so use this year!)\n",
    "df['AIRCRAFT_AGE'] = 2014 - df['AIRCRAFT_YEAR'].astype(int)\n",
    "df = df[['FL_DATE', 'UNIQUE_CARRIER', 'ORIGIN', 'DEST', 'ARR_DELAY', 'DISTANCE', 'AIRCRAFT_MFR', 'AIRCRAFT_AGE']];"
   ]
  },
  {
   "cell_type": "markdown",
   "metadata": {},
   "source": [
    "In the next step, we transform the flight data into binary features. Typically, the day of week and the current season has effect on the delay time. Hence, we add 4 variables indicating the season and 7 indicating the weekday."
   ]
  },
  {
   "cell_type": "code",
   "execution_count": 104,
   "metadata": {
    "collapsed": false
   },
   "outputs": [],
   "source": [
    "# add columns filled with zero to df\n",
    "dateFeaturesColumns = ['Mon', 'Tue', 'Wed', 'Thu', 'Fri', 'Sat', 'Sun', 'Spring', 'Summer', 'Autumn', 'Winter']\n",
    "\n",
    "for col in dateFeaturesColumns:\n",
    "    df[col] = 0"
   ]
  },
  {
   "cell_type": "markdown",
   "metadata": {},
   "source": [
    "To run this code, sit back and relax. It might take some while."
   ]
  },
  {
   "cell_type": "code",
   "execution_count": 138,
   "metadata": {
    "collapsed": false
   },
   "outputs": [
    {
     "name": "stdout",
     "output_type": "stream",
     "text": [
      "CPU times: user 1e+03 ns, sys: 1 µs, total: 2 µs\n",
      "Wall time: 5.01 µs\n"
     ]
    }
   ],
   "source": [
    "%time \n",
    "\n",
    "import datetime\n",
    "\n",
    "# set binary features\n",
    "for index, row in df.iterrows():\n",
    "    \n",
    "    datestr = row['FL_DATE']\n",
    "    dtobj = datetime.datetime.strptime(datestr, '%Y-%m-%d')\n",
    "    \n",
    "    # set 1's where necessary\n",
    "    df.set_value(index, dateFeaturesColumns[dtobj.weekday()], 1)\n",
    "    df.set_value(index, dateFeaturesColumns[7 + (int(dtobj.month) - 1) / 3], 1)"
   ]
  },
  {
   "cell_type": "code",
   "execution_count": 139,
   "metadata": {
    "collapsed": false
   },
   "outputs": [
    {
     "data": {
      "text/html": [
       "<div>\n",
       "<table border=\"1\" class=\"dataframe\">\n",
       "  <thead>\n",
       "    <tr style=\"text-align: right;\">\n",
       "      <th></th>\n",
       "      <th>FL_DATE</th>\n",
       "      <th>UNIQUE_CARRIER</th>\n",
       "      <th>ORIGIN</th>\n",
       "      <th>DEST</th>\n",
       "      <th>ARR_DELAY</th>\n",
       "      <th>DISTANCE</th>\n",
       "      <th>AIRCRAFT_MFR</th>\n",
       "      <th>AIRCRAFT_AGE</th>\n",
       "      <th>Mon</th>\n",
       "      <th>Tue</th>\n",
       "      <th>Wed</th>\n",
       "      <th>Thu</th>\n",
       "      <th>Fri</th>\n",
       "      <th>Sat</th>\n",
       "      <th>Sun</th>\n",
       "      <th>Spring</th>\n",
       "      <th>Summer</th>\n",
       "      <th>Autumn</th>\n",
       "      <th>Winter</th>\n",
       "    </tr>\n",
       "  </thead>\n",
       "  <tbody>\n",
       "    <tr>\n",
       "      <th>0</th>\n",
       "      <td>2014-01-01</td>\n",
       "      <td>AA</td>\n",
       "      <td>JFK</td>\n",
       "      <td>LAX</td>\n",
       "      <td>13</td>\n",
       "      <td>2475</td>\n",
       "      <td>BOEING</td>\n",
       "      <td>27</td>\n",
       "      <td>0</td>\n",
       "      <td>0</td>\n",
       "      <td>1</td>\n",
       "      <td>0</td>\n",
       "      <td>0</td>\n",
       "      <td>0</td>\n",
       "      <td>0</td>\n",
       "      <td>1</td>\n",
       "      <td>1</td>\n",
       "      <td>0</td>\n",
       "      <td>0</td>\n",
       "    </tr>\n",
       "    <tr>\n",
       "      <th>1</th>\n",
       "      <td>2014-01-02</td>\n",
       "      <td>AA</td>\n",
       "      <td>JFK</td>\n",
       "      <td>LAX</td>\n",
       "      <td>1</td>\n",
       "      <td>2475</td>\n",
       "      <td>BOEING</td>\n",
       "      <td>27</td>\n",
       "      <td>0</td>\n",
       "      <td>0</td>\n",
       "      <td>0</td>\n",
       "      <td>1</td>\n",
       "      <td>0</td>\n",
       "      <td>0</td>\n",
       "      <td>0</td>\n",
       "      <td>1</td>\n",
       "      <td>1</td>\n",
       "      <td>0</td>\n",
       "      <td>0</td>\n",
       "    </tr>\n",
       "    <tr>\n",
       "      <th>2</th>\n",
       "      <td>2014-01-04</td>\n",
       "      <td>AA</td>\n",
       "      <td>JFK</td>\n",
       "      <td>LAX</td>\n",
       "      <td>59</td>\n",
       "      <td>2475</td>\n",
       "      <td>BOEING</td>\n",
       "      <td>28</td>\n",
       "      <td>0</td>\n",
       "      <td>0</td>\n",
       "      <td>0</td>\n",
       "      <td>0</td>\n",
       "      <td>0</td>\n",
       "      <td>1</td>\n",
       "      <td>0</td>\n",
       "      <td>1</td>\n",
       "      <td>1</td>\n",
       "      <td>0</td>\n",
       "      <td>0</td>\n",
       "    </tr>\n",
       "    <tr>\n",
       "      <th>3</th>\n",
       "      <td>2014-01-06</td>\n",
       "      <td>AA</td>\n",
       "      <td>JFK</td>\n",
       "      <td>LAX</td>\n",
       "      <td>-8</td>\n",
       "      <td>2475</td>\n",
       "      <td>BOEING</td>\n",
       "      <td>29</td>\n",
       "      <td>1</td>\n",
       "      <td>0</td>\n",
       "      <td>0</td>\n",
       "      <td>0</td>\n",
       "      <td>0</td>\n",
       "      <td>0</td>\n",
       "      <td>0</td>\n",
       "      <td>1</td>\n",
       "      <td>1</td>\n",
       "      <td>0</td>\n",
       "      <td>0</td>\n",
       "    </tr>\n",
       "    <tr>\n",
       "      <th>4</th>\n",
       "      <td>2014-01-09</td>\n",
       "      <td>AA</td>\n",
       "      <td>JFK</td>\n",
       "      <td>LAX</td>\n",
       "      <td>-21</td>\n",
       "      <td>2475</td>\n",
       "      <td>BOEING</td>\n",
       "      <td>26</td>\n",
       "      <td>0</td>\n",
       "      <td>0</td>\n",
       "      <td>0</td>\n",
       "      <td>1</td>\n",
       "      <td>0</td>\n",
       "      <td>0</td>\n",
       "      <td>0</td>\n",
       "      <td>1</td>\n",
       "      <td>1</td>\n",
       "      <td>0</td>\n",
       "      <td>0</td>\n",
       "    </tr>\n",
       "  </tbody>\n",
       "</table>\n",
       "</div>"
      ],
      "text/plain": [
       "      FL_DATE UNIQUE_CARRIER ORIGIN DEST  ARR_DELAY  DISTANCE  \\\n",
       "0  2014-01-01             AA    JFK  LAX         13      2475   \n",
       "1  2014-01-02             AA    JFK  LAX          1      2475   \n",
       "2  2014-01-04             AA    JFK  LAX         59      2475   \n",
       "3  2014-01-06             AA    JFK  LAX         -8      2475   \n",
       "4  2014-01-09             AA    JFK  LAX        -21      2475   \n",
       "\n",
       "                     AIRCRAFT_MFR  AIRCRAFT_AGE  Mon  Tue  Wed  Thu  Fri  Sat  \\\n",
       "0  BOEING                                    27    0    0    1    0    0    0   \n",
       "1  BOEING                                    27    0    0    0    1    0    0   \n",
       "2  BOEING                                    28    0    0    0    0    0    1   \n",
       "3  BOEING                                    29    1    0    0    0    0    0   \n",
       "4  BOEING                                    26    0    0    0    1    0    0   \n",
       "\n",
       "   Sun  Spring  Summer  Autumn  Winter  \n",
       "0    0       1       1       0       0  \n",
       "1    0       1       1       0       0  \n",
       "2    0       1       1       0       0  \n",
       "3    0       1       1       0       0  \n",
       "4    0       1       1       0       0  "
      ]
     },
     "execution_count": 139,
     "metadata": {},
     "output_type": "execute_result"
    }
   ],
   "source": [
    "df.head()"
   ]
  },
  {
   "cell_type": "markdown",
   "metadata": {},
   "source": [
    "### Dealing with the aircraft manufacturer"
   ]
  },
  {
   "cell_type": "markdown",
   "metadata": {},
   "source": [
    "Next, we generate features for the aircraft manufacturer. A first step is to clean the manufacturer strings up (i.e. remove the whitespace) and get a first statistic."
   ]
  },
  {
   "cell_type": "code",
   "execution_count": 201,
   "metadata": {
    "collapsed": true
   },
   "outputs": [],
   "source": [
    "df['AIRCRAFT_MFR'] = df['AIRCRAFT_MFR'].map(lambda x: x.strip())"
   ]
  },
  {
   "cell_type": "code",
   "execution_count": 202,
   "metadata": {
    "collapsed": false
   },
   "outputs": [
    {
     "data": {
      "text/plain": [
       "BOEING                           1485383\n",
       "BOMBARDIER INC                    689292\n",
       "EMBRAER                           567350\n",
       "AIRBUS INDUSTRIE                  500511\n",
       "AIRBUS                            401410\n",
       "MCDONNELL DOUGLAS AIRCRAFT CO     164145\n",
       "MCDONNELL DOUGLAS                 118159\n",
       "CANADAIR                           23805\n",
       "MCDONNELL DOUGLAS CORPORATION      21170\n",
       "EMBRAER S A                         7264\n",
       "CESSNA                              7014\n",
       "PIPER                               3270\n",
       "BEECH                               2984\n",
       "CIRRUS DESIGN CORP                  2178\n",
       "CANADAIR LTD                        1791\n",
       "GULFSTREAM AEROSPACE                1576\n",
       "BELL                                1527\n",
       "MARZ BARRY                          1508\n",
       "KILDALL GARY                        1433\n",
       "LEBLANC GLENN T                     1349\n",
       "ROBINSON HELICOPTER CO              1122\n",
       "FRIEDEMANN JON                       723\n",
       "GROSS ROBERT                         466\n",
       "SOCATA                               415\n",
       "RAYTHEON AIRCRAFT COMPANY            392\n",
       "AGUSTA SPA                           206\n",
       "DOUGLAS                              176\n",
       "SIKORSKY                             115\n",
       "AVIAT AIRCRAFT INC                    93\n",
       "BENHAM JOHN                            4\n",
       "dtype: int64"
      ]
     },
     "execution_count": 202,
     "metadata": {},
     "output_type": "execute_result"
    }
   ],
   "source": [
    "mfr_stats = df['AIRCRAFT_MFR'].value_counts()\n",
    "mfr_stats"
   ]
  },
  {
   "cell_type": "markdown",
   "metadata": {},
   "source": [
    "A quick investigation of the data yields that there are many manufacturers whose airplanes serve a neglectable amount of flights. Also, we merge some companies that are basically the same. To simplify the model, flights served on airplanes with less than 1% market are grouped together."
   ]
  },
  {
   "cell_type": "code",
   "execution_count": 203,
   "metadata": {
    "collapsed": false
   },
   "outputs": [
    {
     "data": {
      "text/plain": [
       "array(['CANADAIR', 'MCDONNELL DOUGLAS CORPORATION', 'EMBRAER S A',\n",
       "       'CESSNA', 'PIPER', 'BEECH', 'CIRRUS DESIGN CORP', 'CANADAIR LTD',\n",
       "       'GULFSTREAM AEROSPACE', 'BELL', 'MARZ BARRY', 'KILDALL GARY',\n",
       "       'LEBLANC GLENN T', 'ROBINSON HELICOPTER CO', 'FRIEDEMANN JON',\n",
       "       'GROSS ROBERT', 'SOCATA', 'RAYTHEON AIRCRAFT COMPANY', 'AGUSTA SPA',\n",
       "       'DOUGLAS', 'SIKORSKY', 'AVIAT AIRCRAFT INC', 'BENHAM JOHN'], \n",
       "      dtype='|S29')"
      ]
     },
     "execution_count": 203,
     "metadata": {},
     "output_type": "execute_result"
    }
   ],
   "source": [
    "market_share = mfr_stats.values * 100. / np.sum(mfr_stats.values)\n",
    "idxs = np.where(market_share < 1.)\n",
    "names = np.array([el for el in list(mfr_stats.keys())])\n",
    "\n",
    "# get labels for small manufacturers\n",
    "smallMFR = names[idxs]\n",
    "smallMFR"
   ]
  },
  {
   "cell_type": "code",
   "execution_count": 204,
   "metadata": {
    "collapsed": false
   },
   "outputs": [
    {
     "data": {
      "text/plain": [
       "Index([u'BOEING', u'BOMBARDIER INC', u'EMBRAER', u'AIRBUS INDUSTRIE',\n",
       "       u'AIRBUS', u'MCDONNELL DOUGLAS AIRCRAFT CO', u'MCDONNELL DOUGLAS',\n",
       "       u'CANADAIR', u'MCDONNELL DOUGLAS CORPORATION', u'EMBRAER S A',\n",
       "       u'CESSNA', u'PIPER', u'BEECH', u'CIRRUS DESIGN CORP', u'CANADAIR LTD',\n",
       "       u'GULFSTREAM AEROSPACE', u'BELL', u'MARZ BARRY', u'KILDALL GARY',\n",
       "       u'LEBLANC GLENN T', u'ROBINSON HELICOPTER CO', u'FRIEDEMANN JON',\n",
       "       u'GROSS ROBERT', u'SOCATA', u'RAYTHEON AIRCRAFT COMPANY', u'AGUSTA SPA',\n",
       "       u'DOUGLAS', u'SIKORSKY', u'AVIAT AIRCRAFT INC', u'BENHAM JOHN'],\n",
       "      dtype='object')"
      ]
     },
     "execution_count": 204,
     "metadata": {},
     "output_type": "execute_result"
    }
   ],
   "source": [
    "mfr_stats.keys()"
   ]
  },
  {
   "cell_type": "code",
   "execution_count": 208,
   "metadata": {
    "collapsed": false
   },
   "outputs": [],
   "source": [
    "# perform merging for the big companies\n",
    "# Douglas airplanes\n",
    "df[df['AIRCRAFT_MFR'] == 'MCDONNELL DOUGLAS AIRCRAFT CO'] = 'MCDONNELL DOUGLAS'\n",
    "df[df['AIRCRAFT_MFR'] == 'MCDONNELL DOUGLAS CORPORATION'] = 'MCDONNELL DOUGLAS'\n",
    "df[df['AIRCRAFT_MFR'] == 'MCDONNELL DOUGLAS CORPORATION'] = 'DOUGLAS'\n",
    "\n",
    "# Embraer\n",
    "df[df['AIRCRAFT_MFR'] == 'EMBRAER S A'] = 'EMBRAER'\n",
    "\n",
    "# Airbus\n",
    "df[df['AIRCRAFT_MFR'] == 'AIRBUS INDUSTRIE'] = 'AIRBUS'\n",
    "\n",
    "# the small manufacturers\n",
    "for name in smallMFR:\n",
    "    df[df['AIRCRAFT_MFR'] == name] = 'SMALL'"
   ]
  },
  {
   "cell_type": "code",
   "execution_count": 209,
   "metadata": {
    "collapsed": false
   },
   "outputs": [
    {
     "data": {
      "text/plain": [
       "BOEING               1485383\n",
       "AIRBUS                901921\n",
       "BOMBARDIER INC        689292\n",
       "EMBRAER               574614\n",
       "MCDONNELL DOUGLAS     303474\n",
       "SMALL                  52147\n",
       "dtype: int64"
      ]
     },
     "execution_count": 209,
     "metadata": {},
     "output_type": "execute_result"
    }
   ],
   "source": [
    "df['AIRCRAFT_MFR'].value_counts()"
   ]
  },
  {
   "cell_type": "code",
   "execution_count": null,
   "metadata": {
    "collapsed": true
   },
   "outputs": [],
   "source": []
  }
 ],
 "metadata": {
  "kernelspec": {
   "display_name": "Python 2",
   "language": "python",
   "name": "python2"
  },
  "language_info": {
   "codemirror_mode": {
    "name": "ipython",
    "version": 2
   },
   "file_extension": ".py",
   "mimetype": "text/x-python",
   "name": "python",
   "nbconvert_exporter": "python",
   "pygments_lexer": "ipython2",
   "version": "2.7.10"
  }
 },
 "nbformat": 4,
 "nbformat_minor": 0
}
