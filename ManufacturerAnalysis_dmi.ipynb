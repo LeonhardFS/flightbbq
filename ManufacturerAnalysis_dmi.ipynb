{
 "cells": [
  {
   "cell_type": "code",
   "execution_count": 75,
   "metadata": {
    "collapsed": true
   },
   "outputs": [],
   "source": [
    "import pandas as pd\n",
    "import random\n",
    "import matplotlib.pyplot as plt\n",
    "import numpy as np\n",
    "%matplotlib inline\n",
    "import re"
   ]
  },
  {
   "cell_type": "code",
   "execution_count": 2,
   "metadata": {
    "collapsed": false
   },
   "outputs": [],
   "source": [
    "df_master = pd.DataFrame.from_csv('aircraftData/MASTER.txt')"
   ]
  },
  {
   "cell_type": "code",
   "execution_count": 3,
   "metadata": {
    "collapsed": false
   },
   "outputs": [],
   "source": [
    "df_aircrafts = pd.DataFrame.from_csv('aircraftData/ACFTREF.txt')"
   ]
  },
  {
   "cell_type": "code",
   "execution_count": 4,
   "metadata": {
    "collapsed": false
   },
   "outputs": [
    {
     "name": "stderr",
     "output_type": "stream",
     "text": [
      "/Users/David/anaconda/lib/python2.7/site-packages/pandas/io/parsers.py:1170: DtypeWarning: Columns (69,74) have mixed types. Specify dtype option on import or set low_memory=False.\n",
      "  data = self._reader.read(nrows)\n"
     ]
    }
   ],
   "source": [
    "# get all tail numbers in official FAA database\n",
    "df_delays = pd.DataFrame.from_csv('cache/328211631_T_ONTIME.csv')\n",
    "df_delays.reset_index(inplace=True)"
   ]
  },
  {
   "cell_type": "code",
   "execution_count": 23,
   "metadata": {
    "collapsed": false
   },
   "outputs": [],
   "source": [
    "master = df_master[['MFR MDL CODE', 'YEAR MFR']].reset_index()\n",
    "aircrafts = df_aircrafts['MFR'].reset_index()\n",
    "master.columns = ['TAIL_NUM', 'CODE', 'YEAR']\n",
    "aircrafts.columns = ['CODE', 'MFR']\n",
    "joined = pd.merge(master, aircrafts, how='left', on='CODE')"
   ]
  },
  {
   "cell_type": "code",
   "execution_count": 62,
   "metadata": {
    "collapsed": false
   },
   "outputs": [],
   "source": [
    "delayFinal = df_delays[['TAIL_NUM','AIRLINE_ID']]\n",
    "delayFinal.TAIL_NUM = delayFinal.TAIL_NUM.str.strip('N')\n",
    "delaymfr = pd.merge(delayFinal, joined, how='left', on=['TAIL_NUM'])"
   ]
  },
  {
   "cell_type": "code",
   "execution_count": 64,
   "metadata": {
    "collapsed": false
   },
   "outputs": [
    {
     "data": {
      "text/plain": [
       "0         1987\n",
       "1         1987\n",
       "2          NaN\n",
       "3         1986\n",
       "4          NaN\n",
       "5         1985\n",
       "6          NaN\n",
       "7          NaN\n",
       "8         1988\n",
       "9         1985\n",
       "10         NaN\n",
       "11        1987\n",
       "12        1987\n",
       "13        1988\n",
       "14            \n",
       "15         NaN\n",
       "16         NaN\n",
       "17         NaN\n",
       "18            \n",
       "19         NaN\n",
       "20         NaN\n",
       "21         NaN\n",
       "22         NaN\n",
       "23        1961\n",
       "24        1961\n",
       "25        1961\n",
       "26         NaN\n",
       "27         NaN\n",
       "28        1961\n",
       "29         NaN\n",
       "          ... \n",
       "471919    2000\n",
       "471920    2000\n",
       "471921    2000\n",
       "471922    2012\n",
       "471923    1995\n",
       "471924    1999\n",
       "471925    2007\n",
       "471926    2008\n",
       "471927    2000\n",
       "471928    2000\n",
       "471929    1998\n",
       "471930    2000\n",
       "471931    2000\n",
       "471932    1999\n",
       "471933     NaN\n",
       "471934    2000\n",
       "471935    2000\n",
       "471936    1999\n",
       "471937    1999\n",
       "471938    2000\n",
       "471939    2000\n",
       "471940    2000\n",
       "471941    2000\n",
       "471942    2000\n",
       "471943    2007\n",
       "471944    2007\n",
       "471945    2000\n",
       "471946    2000\n",
       "471947    1999\n",
       "471948    2006\n",
       "Name: YEAR, dtype: object"
      ]
     },
     "execution_count": 64,
     "metadata": {},
     "output_type": "execute_result"
    }
   ],
   "source": [
    "delaymfr.YEAR"
   ]
  },
  {
   "cell_type": "code",
   "execution_count": 68,
   "metadata": {
    "collapsed": false
   },
   "outputs": [],
   "source": [
    "years = [int(year) for year in delaymfr.YEAR.str.strip().values if (not year != year and (len(year)==4))]"
   ]
  },
  {
   "cell_type": "code",
   "execution_count": 78,
   "metadata": {
    "collapsed": false
   },
   "outputs": [
    {
     "data": {
      "text/plain": [
       "(array([  0.00000000e+00,   0.00000000e+00,   0.00000000e+00,\n",
       "          0.00000000e+00,   0.00000000e+00,   0.00000000e+00,\n",
       "          2.60000000e+01,   0.00000000e+00,   0.00000000e+00,\n",
       "          1.14000000e+02,   0.00000000e+00,   7.80000000e+01,\n",
       "          0.00000000e+00,   1.79000000e+02,   0.00000000e+00,\n",
       "          0.00000000e+00,   0.00000000e+00,   0.00000000e+00,\n",
       "          1.22000000e+02,   0.00000000e+00,   0.00000000e+00,\n",
       "          0.00000000e+00,   9.00000000e+00,   0.00000000e+00,\n",
       "          1.91000000e+02,   1.97000000e+02,   1.17000000e+02,\n",
       "          2.50000000e+01,   1.20000000e+01,   2.20000000e+02,\n",
       "          1.11000000e+02,   0.00000000e+00,   0.00000000e+00,\n",
       "          3.40000000e+01,   4.38000000e+02,   1.78000000e+03,\n",
       "          1.44600000e+03,   4.21000000e+03,   7.00000000e+03,\n",
       "          4.98200000e+03,   6.90200000e+03,   8.34800000e+03,\n",
       "          9.80900000e+03,   5.77300000e+03,   5.09000000e+03,\n",
       "          6.56400000e+03,   6.99900000e+03,   8.02100000e+03,\n",
       "          1.90260000e+04,   2.44860000e+04,   2.87020000e+04,\n",
       "          3.56540000e+04,   2.52170000e+04,   2.28470000e+04,\n",
       "          1.22720000e+04,   1.35710000e+04,   1.29910000e+04,\n",
       "          8.29100000e+03,   9.89000000e+03,   7.94300000e+03,\n",
       "          3.27100000e+03,   5.25800000e+03,   9.38100000e+03,\n",
       "          8.53200000e+03,   3.00000000e+01,   8.40000000e+01,\n",
       "          0.00000000e+00,   0.00000000e+00,   0.00000000e+00]),\n",
       " array([1950, 1951, 1952, 1953, 1954, 1955, 1956, 1957, 1958, 1959, 1960,\n",
       "        1961, 1962, 1963, 1964, 1965, 1966, 1967, 1968, 1969, 1970, 1971,\n",
       "        1972, 1973, 1974, 1975, 1976, 1977, 1978, 1979, 1980, 1981, 1982,\n",
       "        1983, 1984, 1985, 1986, 1987, 1988, 1989, 1990, 1991, 1992, 1993,\n",
       "        1994, 1995, 1996, 1997, 1998, 1999, 2000, 2001, 2002, 2003, 2004,\n",
       "        2005, 2006, 2007, 2008, 2009, 2010, 2011, 2012, 2013, 2014, 2015,\n",
       "        2016, 2017, 2018, 2019]),\n",
       " <a list of 69 Patch objects>)"
      ]
     },
     "execution_count": 78,
     "metadata": {},
     "output_type": "execute_result"
    },
    {
     "data": {
      "image/png": "[encoded data removed]",
      "text/plain": [
       "<matplotlib.figure.Figure at 0x10e9b5650>"
      ]
     },
     "metadata": {},
     "output_type": "display_data"
    }
   ],
   "source": [
    "plt.xlim(1980,2020)\n",
    "plt.hist(years, bins=np.arange(1950, 2020, 1))"
   ]
  },
  {
   "cell_type": "code",
   "execution_count": 18,
   "metadata": {
    "collapsed": false
   },
   "outputs": [
    {
     "data": {
      "text/plain": [
       "0.29173914978101445"
      ]
     },
     "execution_count": 18,
     "metadata": {},
     "output_type": "execute_result"
    }
   ],
   "source": [
    "# number of missing manufacturers\n",
    "1.0*delaymfr.MFR.isnull().sum()/len(delaymfr.MFR)"
   ]
  },
  {
   "cell_type": "code",
   "execution_count": null,
   "metadata": {
    "collapsed": true
   },
   "outputs": [],
   "source": []
  }
 ],
 "metadata": {
  "kernelspec": {
   "display_name": "Python 2",
   "language": "python",
   "name": "python2"
  },
  "language_info": {
   "codemirror_mode": {
    "name": "ipython",
    "version": 2
   },
   "file_extension": ".py",
   "mimetype": "text/x-python",
   "name": "python",
   "nbconvert_exporter": "python",
   "pygments_lexer": "ipython2",
   "version": "2.7.10"
  }
 },
 "nbformat": 4,
 "nbformat_minor": 0
}
