{
 "cells": [
  {
   "cell_type": "code",
   "execution_count": 81,
   "metadata": {
    "collapsed": true
   },
   "outputs": [],
   "source": [
    "%matplotlib inline\n",
    "# import required modules for prediction tasks\n",
    "import numpy as np\n",
    "import pandas as pd\n",
    "import math\n",
    "import random\n",
    "import requests\n",
    "import zipfile\n",
    "import StringIO\n",
    "import re\n",
    "import json\n",
    "import os\n",
    "from datetime import datetime\n",
    "\n",
    "from sklearn.preprocessing import OneHotEncoder\n",
    "from scipy import sparse\n",
    "from sklearn.cross_validation import train_test_split\n",
    "from sklearn.preprocessing import StandardScaler\n",
    "from sklearn.linear_model import SGDRegressor\n",
    "from sklearn.grid_search import GridSearchCV\n",
    "from sklearn.metrics import mean_absolute_error"
   ]
  },
  {
   "cell_type": "code",
   "execution_count": 56,
   "metadata": {
    "collapsed": false
   },
   "outputs": [
    {
     "name": "stdout",
     "output_type": "stream",
     "text": [
      "4376277 entries\n"
     ]
    },
    {
     "data": {
      "text/html": [
       "<div>\n",
       "<table border=\"1\" class=\"dataframe\">\n",
       "  <thead>\n",
       "    <tr style=\"text-align: right;\">\n",
       "      <th></th>\n",
       "      <th>ORIGIN_CITY_NAME</th>\n",
       "      <th>DEST_CITY_NAME</th>\n",
       "      <th>AIRCRAFT_AGE</th>\n",
       "      <th>DEST</th>\n",
       "      <th>ARR_TIME</th>\n",
       "      <th>DEP_TIME</th>\n",
       "      <th>UNIQUE_CARRIER</th>\n",
       "      <th>DAY_OF_WEEK</th>\n",
       "      <th>AIRCRAFT_MFR</th>\n",
       "      <th>FL_NUM</th>\n",
       "      <th>MONTH</th>\n",
       "      <th>DAY_OF_MONTH</th>\n",
       "      <th>DISTANCE</th>\n",
       "      <th>ORIGIN</th>\n",
       "    </tr>\n",
       "  </thead>\n",
       "  <tbody>\n",
       "    <tr>\n",
       "      <th>0</th>\n",
       "      <td>New York, NY</td>\n",
       "      <td>Los Angeles, CA</td>\n",
       "      <td>27</td>\n",
       "      <td>LAX</td>\n",
       "      <td>1238</td>\n",
       "      <td>914</td>\n",
       "      <td>AA</td>\n",
       "      <td>3</td>\n",
       "      <td>BOEING</td>\n",
       "      <td>1</td>\n",
       "      <td>1</td>\n",
       "      <td>1</td>\n",
       "      <td>2475</td>\n",
       "      <td>JFK</td>\n",
       "    </tr>\n",
       "    <tr>\n",
       "      <th>1</th>\n",
       "      <td>New York, NY</td>\n",
       "      <td>Los Angeles, CA</td>\n",
       "      <td>27</td>\n",
       "      <td>LAX</td>\n",
       "      <td>1226</td>\n",
       "      <td>857</td>\n",
       "      <td>AA</td>\n",
       "      <td>4</td>\n",
       "      <td>BOEING</td>\n",
       "      <td>1</td>\n",
       "      <td>1</td>\n",
       "      <td>2</td>\n",
       "      <td>2475</td>\n",
       "      <td>JFK</td>\n",
       "    </tr>\n",
       "    <tr>\n",
       "      <th>2</th>\n",
       "      <td>New York, NY</td>\n",
       "      <td>Los Angeles, CA</td>\n",
       "      <td>28</td>\n",
       "      <td>LAX</td>\n",
       "      <td>1324</td>\n",
       "      <td>1005</td>\n",
       "      <td>AA</td>\n",
       "      <td>6</td>\n",
       "      <td>BOEING</td>\n",
       "      <td>1</td>\n",
       "      <td>1</td>\n",
       "      <td>4</td>\n",
       "      <td>2475</td>\n",
       "      <td>JFK</td>\n",
       "    </tr>\n",
       "    <tr>\n",
       "      <th>3</th>\n",
       "      <td>New York, NY</td>\n",
       "      <td>Los Angeles, CA</td>\n",
       "      <td>29</td>\n",
       "      <td>LAX</td>\n",
       "      <td>1217</td>\n",
       "      <td>917</td>\n",
       "      <td>AA</td>\n",
       "      <td>1</td>\n",
       "      <td>BOEING</td>\n",
       "      <td>1</td>\n",
       "      <td>1</td>\n",
       "      <td>6</td>\n",
       "      <td>2475</td>\n",
       "      <td>JFK</td>\n",
       "    </tr>\n",
       "    <tr>\n",
       "      <th>4</th>\n",
       "      <td>New York, NY</td>\n",
       "      <td>Los Angeles, CA</td>\n",
       "      <td>26</td>\n",
       "      <td>LAX</td>\n",
       "      <td>1204</td>\n",
       "      <td>859</td>\n",
       "      <td>AA</td>\n",
       "      <td>4</td>\n",
       "      <td>BOEING</td>\n",
       "      <td>1</td>\n",
       "      <td>1</td>\n",
       "      <td>9</td>\n",
       "      <td>2475</td>\n",
       "      <td>JFK</td>\n",
       "    </tr>\n",
       "  </tbody>\n",
       "</table>\n",
       "</div>"
      ],
      "text/plain": [
       "  ORIGIN_CITY_NAME   DEST_CITY_NAME  AIRCRAFT_AGE DEST  ARR_TIME  DEP_TIME  \\\n",
       "0     New York, NY  Los Angeles, CA            27  LAX      1238       914   \n",
       "1     New York, NY  Los Angeles, CA            27  LAX      1226       857   \n",
       "2     New York, NY  Los Angeles, CA            28  LAX      1324      1005   \n",
       "3     New York, NY  Los Angeles, CA            29  LAX      1217       917   \n",
       "4     New York, NY  Los Angeles, CA            26  LAX      1204       859   \n",
       "\n",
       "  UNIQUE_CARRIER  DAY_OF_WEEK AIRCRAFT_MFR  FL_NUM  MONTH  DAY_OF_MONTH  \\\n",
       "0             AA            3       BOEING       1      1             1   \n",
       "1             AA            4       BOEING       1      1             2   \n",
       "2             AA            6       BOEING       1      1             4   \n",
       "3             AA            1       BOEING       1      1             6   \n",
       "4             AA            4       BOEING       1      1             9   \n",
       "\n",
       "   DISTANCE ORIGIN  \n",
       "0      2475    JFK  \n",
       "1      2475    JFK  \n",
       "2      2475    JFK  \n",
       "3      2475    JFK  \n",
       "4      2475    JFK  "
      ]
     },
     "execution_count": 56,
     "metadata": {},
     "output_type": "execute_result"
    }
   ],
   "source": [
    "# need to create a lookup table for the values (i.e. flight numbers, city and so on and then drop all duplicates!)\n",
    "db = pd.read_csv('cache/BigFlightTable.csv')\n",
    "# remove all unnecessary columns\n",
    "db = db[['ORIGIN_CITY_NAME', 'DEST_CITY_NAME', 'AIRCRAFT_AGE', 'DEST', 'ARR_TIME', \\\n",
    "         'DEP_TIME', 'UNIQUE_CARRIER', 'DAY_OF_WEEK', 'AIRCRAFT_MFR', 'FL_NUM', 'MONTH', \\\n",
    "         'DAY_OF_MONTH', 'DISTANCE', 'ORIGIN']]\n",
    "print str(db.count()[0]) + ' entries'\n",
    "db.head()"
   ]
  },
  {
   "cell_type": "code",
   "execution_count": 57,
   "metadata": {
    "collapsed": false
   },
   "outputs": [
    {
     "name": "stdout",
     "output_type": "stream",
     "text": [
      "5 days have 58334 flights\n",
      "Found 85 flights from Chicago, IL to New York, NY for 20.12 - 24.12\n"
     ]
    }
   ],
   "source": [
    "# drop everything except for the 5 days before christmas! i.e. 20.12, 21.12, 22.12, 23.12, 24.12.\n",
    "db = db[db.MONTH == 12]\n",
    "db = db[db.DAY_OF_MONTH <= 24]\n",
    "db = db[db.DAY_OF_MONTH >= 20]\n",
    "\n",
    "print '5 days have ' + str(db.count()[0]) + ' flights'\n",
    "# we are only interested in flights NY to Chicago!\n",
    "city_from = 'Chicago, IL'\n",
    "city_to = 'New York, NY'\n",
    "\n",
    "db = db[db.ORIGIN_CITY_NAME == city_from]\n",
    "db = db[db.DEST_CITY_NAME == city_to]\n",
    "\n",
    "print 'Found ' + str(db.count()[0]) + ' flights from ' + city_from + ' to ' + city_to + ' for 20.12 - 24.12'"
   ]
  },
  {
   "cell_type": "code",
   "execution_count": 146,
   "metadata": {
    "collapsed": true
   },
   "outputs": [],
   "source": [
    "mdl = None\n",
    "# with open('cache/models/2014model.json') as f:\n",
    "#     mdl = json.load(f)\n",
    "with open('cache/model.json') as f:\n",
    "    mdl = json.load(f)"
   ]
  },
  {
   "cell_type": "code",
   "execution_count": 147,
   "metadata": {
    "collapsed": true
   },
   "outputs": [],
   "source": [
    "# the structure of the model is given as \n",
    "# print 'splitting into numerical/categorical features'\n",
    "# numericalFeat = df[['DISTANCE', 'AIRCRAFT_AGE']].copy().astype('float') # Numerical features\n",
    "# num_numFeatures = 2\n",
    "# categoricalFeat = df[['MONTH', 'DAY_OF_MONTH', 'ORIGIN', \n",
    "#                     'DEST', 'HOUR_OF_ARR', 'HOUR_OF_DEP', \n",
    "#                     'UNIQUE_CARRIER', 'DAY_OF_WEEK', 'AIRCRAFT_MFR']].copy() # Categorical features"
   ]
  },
  {
   "cell_type": "code",
   "execution_count": 148,
   "metadata": {
    "collapsed": false
   },
   "outputs": [],
   "source": [
    "# with open('cache/first_model/carrierTable.json', 'rb') as infile:\n",
    "#     carrierTable = json.load(infile)\n",
    "\n",
    "# with open('cache/first_model/manufacturerTable.json', 'rb') as infile:\n",
    "#     mfrTable = json.load(infile)\n",
    "    \n",
    "# with open('cache/first_model/destTable.json', 'rb') as infile:\n",
    "#     destTable = json.load(infile)\n",
    "\n",
    "# with open('cache/first_model/originTable.json', 'rb') as infile:\n",
    "#     originTable = json.load(infile)"
   ]
  },
  {
   "cell_type": "code",
   "execution_count": 214,
   "metadata": {
    "collapsed": false
   },
   "outputs": [],
   "source": [
    "# categorical feature encoder, fitted on the keys\n",
    "encoder = OneHotEncoder(sparse=True, n_values=mdl['encoder']['values']) \n",
    "\n",
    "# input is a datarow\n",
    "# prediction of day in the next year!\n",
    "def predictDelayTime(row, s_mean, s_std, coeff, intercept):\n",
    "    distance = row['DISTANCE'] # <-- look this up!\n",
    "    aircraft_age = row['AIRCRAFT_AGE'] # <-- look this up!\n",
    "    \n",
    "    # normalize numerical features according to scaler\n",
    "    distance = (distance - s_mean[0]) / s_std[0]\n",
    "    aircraft_age = (aircraft_age + 1 - s_mean[1]) / s_std[1]\n",
    "    \n",
    "    month = row['MONTH']\n",
    "    day_of_month = row['DAY_OF_MONTH'] \n",
    "    origin = row['ORIGIN']\n",
    "    dest = row['DEST']\n",
    "    \n",
    "    hour_of_arr = int(row['ARR_TIME']) / 10\n",
    "    hour_of_dep = int(row['DEP_TIME']) / 10\n",
    "    carrier = row['UNIQUE_CARRIER']\n",
    "    day_of_week = datetime(year=2015, month=row.MONTH, day=row.DAY_OF_MONTH).weekday() # <-- get via datetimeobject\n",
    "    mfr = row['AIRCRAFT_MFR']\n",
    "    \n",
    "    # for nonindexed categorical features, do lookup!\n",
    "    origin = originTable[origin]\n",
    "    dest = destTable[dest]\n",
    "    mfr = mfrTable[mfr]\n",
    "    carrier = carrierTable[carrier]\n",
    "    \n",
    "    # write into df\n",
    "    df['MONTH'] = month\n",
    "    df['DAY_OF_MONTH'] = day_of_month\n",
    "    df['ORIGIN'] = origin\n",
    "    df['DEST'] = dest\n",
    "    df['HOUR_OF_ARR'] = hour_of_arr\n",
    "    df['HOUR_OF_DEP'] = hour_of_dep\n",
    "    df['UNIQUE_CARRIER'] = carrier\n",
    "    df['DAY_OF_WEEK'] = day_of_week\n",
    "    df['AIRCRAFT_MFR'] = mfr\n",
    "    \n",
    "    categoricalFeat = df[['MONTH', 'DAY_OF_MONTH', 'ORIGIN', \n",
    "                    'DEST', 'HOUR_OF_ARR', 'HOUR_OF_DEP', \n",
    "                    'UNIQUE_CARRIER', 'DAY_OF_WEEK', 'AIRCRAFT_MFR']].copy() # Categorical features\n",
    "    \n",
    "    categoricals_encoded = encoder.fit_transform(categoricalFeat)\n",
    "\n",
    "    num_features = np.array([distance, aircraft_age])\n",
    "    cat_features = categoricals_encoded.toarray().T.ravel()\n",
    "    w = np.hstack([num_features, cat_features])\n",
    "    #now construct the data vector for the linear model\n",
    "    # 2 random features (dist, aircraft_age)\n",
    "    # 31 days of month\n",
    "    # len(originTable.keys()) origin airports\n",
    "    # len(destTable.keys()) dest airports\n",
    "    # 241 hours (arrival hour)\n",
    "    # 241 hours  (departure hour)\n",
    "    # len(carrierTable.keys())\n",
    "    # 7 weekdays\n",
    "    # len(mfrTable.keys())\n",
    "    \n",
    "#     w = np.zeros( 2 + 12 + 31 + len(originTable.keys()) + len(destTable.keys()) \\\n",
    "#     + 2 * 24 + len(carrierTable.keys()) + 7 + len(mfrTable.keys()) )\n",
    "    \n",
    "#     # fill with features\n",
    "#     w[0] = distance\n",
    "#     w[1] = aircraft_age\n",
    "#     w[1 + month] = 1\n",
    "#     w[1 + 12 + day_of_month] = 1\n",
    "#     w[2 + 12 + 31 + origin] = 1\n",
    "#     w[2 + 12 + 31 + len(originTable.keys()) + dest] = 1\n",
    "#     w[2 + 12 + 31 + len(originTable.keys()) + len(destTable.keys()) + hour_of_arr] = 1\n",
    "#     w[2 + 12 + 31 + len(originTable.keys()) + len(destTable.keys()) + 24 + hour_of_dep] = 1\n",
    "#     w[2 + 12 + 31 + len(originTable.keys()) + len(destTable.keys()) + 24 + 24 + carrier] = 1\n",
    "#     w[2 + 12 + 31 + len(originTable.keys()) + len(destTable.keys()) + 24 + 24 + len(carrierTable.keys()) + day_of_week] = 1\n",
    "#     w[2 + 12 + 31 + len(originTable.keys()) + len(destTable.keys()) + 24 + 24 + len(carrierTable.keys()) + 7 + mfr] = 1\n",
    "    \n",
    "    y_pred = np.dot(w, coeff) + intercept\n",
    "    \n",
    "    return y_pred[0]"
   ]
  },
  {
   "cell_type": "code",
   "execution_count": 215,
   "metadata": {
    "collapsed": false
   },
   "outputs": [],
   "source": [
    "# read out tables\n",
    "carrierTable = mdl['CARRIER']\n",
    "mfrTable = mdl['MANUFACTURER']\n",
    "destTable = mdl['DEST']\n",
    "originTable = mdl['ORIGIN']"
   ]
  },
  {
   "cell_type": "code",
   "execution_count": 216,
   "metadata": {
    "collapsed": false
   },
   "outputs": [
    {
     "data": {
      "text/plain": [
       "ORIGIN_CITY_NAME     Chicago, IL\n",
       "DEST_CITY_NAME      New York, NY\n",
       "AIRCRAFT_AGE                   4\n",
       "DEST                         JFK\n",
       "ARR_TIME                    1253\n",
       "DEP_TIME                     951\n",
       "UNIQUE_CARRIER                B6\n",
       "DAY_OF_WEEK                    7\n",
       "AIRCRAFT_MFR             EMBRAER\n",
       "FL_NUM                       906\n",
       "MONTH                         12\n",
       "DAY_OF_MONTH                  21\n",
       "DISTANCE                     740\n",
       "ORIGIN                       ORD\n",
       "Name: 4039115, dtype: object"
      ]
     },
     "execution_count": 216,
     "metadata": {},
     "output_type": "execute_result"
    }
   ],
   "source": [
    "test_row = db.iloc[0]\n",
    "test_row"
   ]
  },
  {
   "cell_type": "code",
   "execution_count": 217,
   "metadata": {
    "collapsed": false
   },
   "outputs": [
    {
     "name": "stderr",
     "output_type": "stream",
     "text": [
      "/usr/local/lib/python2.7/site-packages/ipykernel/__main__.py:32: SettingWithCopyWarning: \n",
      "A value is trying to be set on a copy of a slice from a DataFrame\n",
      "\n",
      "See the the caveats in the documentation: http://pandas.pydata.org/pandas-docs/stable/indexing.html#indexing-view-versus-copy\n",
      "/usr/local/lib/python2.7/site-packages/ipykernel/__main__.py:33: SettingWithCopyWarning: \n",
      "A value is trying to be set on a copy of a slice from a DataFrame\n",
      "\n",
      "See the the caveats in the documentation: http://pandas.pydata.org/pandas-docs/stable/indexing.html#indexing-view-versus-copy\n",
      "/usr/local/lib/python2.7/site-packages/ipykernel/__main__.py:34: SettingWithCopyWarning: \n",
      "A value is trying to be set on a copy of a slice from a DataFrame\n",
      "\n",
      "See the the caveats in the documentation: http://pandas.pydata.org/pandas-docs/stable/indexing.html#indexing-view-versus-copy\n",
      "/usr/local/lib/python2.7/site-packages/ipykernel/__main__.py:35: SettingWithCopyWarning: \n",
      "A value is trying to be set on a copy of a slice from a DataFrame\n",
      "\n",
      "See the the caveats in the documentation: http://pandas.pydata.org/pandas-docs/stable/indexing.html#indexing-view-versus-copy\n",
      "/usr/local/lib/python2.7/site-packages/ipykernel/__main__.py:36: SettingWithCopyWarning: \n",
      "A value is trying to be set on a copy of a slice from a DataFrame\n",
      "\n",
      "See the the caveats in the documentation: http://pandas.pydata.org/pandas-docs/stable/indexing.html#indexing-view-versus-copy\n",
      "/usr/local/lib/python2.7/site-packages/ipykernel/__main__.py:37: SettingWithCopyWarning: \n",
      "A value is trying to be set on a copy of a slice from a DataFrame\n",
      "\n",
      "See the the caveats in the documentation: http://pandas.pydata.org/pandas-docs/stable/indexing.html#indexing-view-versus-copy\n",
      "/usr/local/lib/python2.7/site-packages/ipykernel/__main__.py:38: SettingWithCopyWarning: \n",
      "A value is trying to be set on a copy of a slice from a DataFrame\n",
      "\n",
      "See the the caveats in the documentation: http://pandas.pydata.org/pandas-docs/stable/indexing.html#indexing-view-versus-copy\n",
      "/usr/local/lib/python2.7/site-packages/ipykernel/__main__.py:39: SettingWithCopyWarning: \n",
      "A value is trying to be set on a copy of a slice from a DataFrame\n",
      "\n",
      "See the the caveats in the documentation: http://pandas.pydata.org/pandas-docs/stable/indexing.html#indexing-view-versus-copy\n",
      "/usr/local/lib/python2.7/site-packages/ipykernel/__main__.py:40: SettingWithCopyWarning: \n",
      "A value is trying to be set on a copy of a slice from a DataFrame\n",
      "\n",
      "See the the caveats in the documentation: http://pandas.pydata.org/pandas-docs/stable/indexing.html#indexing-view-versus-copy\n"
     ]
    },
    {
     "data": {
      "text/plain": [
       "4.142780935604816"
      ]
     },
     "execution_count": 217,
     "metadata": {},
     "output_type": "execute_result"
    }
   ],
   "source": [
    "# make prediction\n",
    "predictDelayTime(test_row, mdl['scaler_mean'], mdl['scaler_std'], mdl['coeff'], mdl['intercept'])"
   ]
  },
  {
   "cell_type": "code",
   "execution_count": 143,
   "metadata": {
    "collapsed": false
   },
   "outputs": [],
   "source": [
    "dest = 'JFK'\n",
    "dest = destTable[dest]"
   ]
  },
  {
   "cell_type": "code",
   "execution_count": 122,
   "metadata": {
    "collapsed": false
   },
   "outputs": [
    {
     "data": {
      "text/plain": [
       "376"
      ]
     },
     "execution_count": 122,
     "metadata": {},
     "output_type": "execute_result"
    }
   ],
   "source": [
    "len(mdl['coeff'])"
   ]
  },
  {
   "cell_type": "code",
   "execution_count": 145,
   "metadata": {
    "collapsed": false
   },
   "outputs": [
    {
     "data": {
      "text/plain": [
       "[2, 32, 40, 41, 241, 241, 1, 8, 4]"
      ]
     },
     "execution_count": 145,
     "metadata": {},
     "output_type": "execute_result"
    }
   ],
   "source": [
    "mdl['encoder']['values']"
   ]
  },
  {
   "cell_type": "code",
   "execution_count": 131,
   "metadata": {
    "collapsed": false
   },
   "outputs": [
    {
     "data": {
      "text/plain": [
       "[u'MCDONNELL DOUGLAS', u'SMALL', u'CESSNA', u'BOEING']"
      ]
     },
     "execution_count": 131,
     "metadata": {},
     "output_type": "execute_result"
    }
   ],
   "source": [
    "mfrTable.keys()"
   ]
  },
  {
   "cell_type": "code",
   "execution_count": 193,
   "metadata": {
    "collapsed": false
   },
   "outputs": [
    {
     "ename": "NameError",
     "evalue": "name 'distance' is not defined",
     "output_type": "error",
     "traceback": [
      "\u001b[0;31m---------------------------------------------------------------------------\u001b[0m",
      "\u001b[0;31mNameError\u001b[0m                                 Traceback (most recent call last)",
      "\u001b[0;32m<ipython-input-193-9d56df72b211>\u001b[0m in \u001b[0;36m<module>\u001b[0;34m()\u001b[0m\n\u001b[0;32m----> 1\u001b[0;31m \u001b[0mw\u001b[0m \u001b[0;34m=\u001b[0m \u001b[0mnp\u001b[0m\u001b[0;34m.\u001b[0m\u001b[0mhstack\u001b[0m\u001b[0;34m(\u001b[0m\u001b[0;34m[\u001b[0m\u001b[0mnp\u001b[0m\u001b[0;34m.\u001b[0m\u001b[0marray\u001b[0m\u001b[0;34m(\u001b[0m\u001b[0;34m[\u001b[0m\u001b[0mdistance\u001b[0m\u001b[0;34m,\u001b[0m \u001b[0maircraft_age\u001b[0m\u001b[0;34m]\u001b[0m\u001b[0;34m)\u001b[0m\u001b[0;34m,\u001b[0m \u001b[0mcategoricals_encoded\u001b[0m\u001b[0;34m.\u001b[0m\u001b[0mtoarray\u001b[0m\u001b[0;34m(\u001b[0m\u001b[0;34m)\u001b[0m\u001b[0;34m]\u001b[0m\u001b[0;34m)\u001b[0m\u001b[0;34m\u001b[0m\u001b[0m\n\u001b[0m",
      "\u001b[0;31mNameError\u001b[0m: name 'distance' is not defined"
     ]
    }
   ],
   "source": []
  },
  {
   "cell_type": "code",
   "execution_count": null,
   "metadata": {
    "collapsed": true
   },
   "outputs": [],
   "source": []
  }
 ],
 "metadata": {
  "kernelspec": {
   "display_name": "Python 2",
   "language": "python",
   "name": "python2"
  },
  "language_info": {
   "codemirror_mode": {
    "name": "ipython",
    "version": 2
   },
   "file_extension": ".py",
   "mimetype": "text/x-python",
   "name": "python",
   "nbconvert_exporter": "python",
   "pygments_lexer": "ipython2",
   "version": "2.7.10"
  }
 },
 "nbformat": 4,
 "nbformat_minor": 0
}
