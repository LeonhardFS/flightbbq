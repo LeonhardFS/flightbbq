{
 "cells": [
  {
   "cell_type": "code",
   "execution_count": 1,
   "metadata": {
    "collapsed": false
   },
   "outputs": [],
   "source": [
    "import datetime\n",
    "from os import rename\n",
    "from os.path import splitext\n",
    "from calendar import month_name\n",
    "from httplib import HTTPConnection\n",
    "from time import clock\n",
    "from urllib import urlretrieve\n",
    "import urllib2\n",
    "from zipfile import ZipFile\n",
    "import numpy as np\n",
    "from bs4 import BeautifulSoup\n",
    "\n",
    "from data_scraper import *\n",
    "\n",
    "import os\n",
    "import errno\n",
    "import humanize\n",
    "import sys\n",
    "import json\n",
    "import pandas as pd"
   ]
  },
  {
   "cell_type": "code",
   "execution_count": 84,
   "metadata": {
    "collapsed": false
   },
   "outputs": [],
   "source": [
    "def parseHistoryTable(table):\n",
    "    temperature = 0 # in degree F\n",
    "    events = '' # some string i.e. rain\n",
    "    humidity = 0 # humidity in %\n",
    "    precipitation = 0 # in inch\n",
    "    sealevelpressure = 0 # in inch\n",
    "    visibility = 0 # in miles\n",
    "    windspeed = 0 # in miles per hour\n",
    "\n",
    "    # skip the first entries of some fields...\n",
    "    skipprec = True\n",
    "    skippres = True\n",
    "\n",
    "    # Find all the <tr> tag pairs, skip the first one, then for each.\n",
    "    for row in table.find_all('tr')[1:]:\n",
    "        # Create a variable of all the <td> tag pairs in each <tr> tag pair,\n",
    "        col = row.find_all('td')\n",
    "\n",
    "        # only retrieve relevant columns\n",
    "        if col[0].text == 'Mean Temperature':\n",
    "            temperature = int(col[1].find('span', attrs={\"class\": \"wx-value\"}).text)\n",
    "        if col[0].text == 'Average Humidity':\n",
    "            humidity = int(col[1].text)\n",
    "        if col[0].text == 'Precipitation':\n",
    "            if not skipprec:\n",
    "                precipitation = float(col[1].find('span', attrs={\"class\": \"wx-value\"}).text)\n",
    "            skipprec = False\n",
    "        if col[0].text == 'Sea Level Pressure':\n",
    "            if not skippres:\n",
    "                sealevelpressure = float(col[1].find('span', attrs={\"class\": \"wx-value\"}).text)\n",
    "            skippres = False\n",
    "        if col[0].text == 'Visibility':\n",
    "            visibility = float(col[1].find('span', attrs={\"class\": \"wx-value\"}).text)\n",
    "        if col[0].text == 'Wind Speed':\n",
    "            windspeed = float(col[1].find('span', attrs={\"class\": \"wx-value\"}).text)\n",
    "        if col[0].text == 'Events':\n",
    "            events = str(col[1].text).strip()\n",
    "    # return as dictionary\n",
    "    d = dict(zip(['temperature', 'events', 'humidity', 'precipitation', 'sealevelpressure', 'visibility', 'windspeed'], \\\n",
    "    [temperature, events, humidity, precipitation, sealevelpressure, visibility, windspeed]))\n",
    "    \n",
    "    return d\n",
    "\n",
    "def getWeather(year, day, month, airportcode):\n",
    "    url = 'http://www.wunderground.com/cgi-bin/findweather/getForecast?airportorwmo=query&historytype=DailyHistory&backurl=%2Fhistory%2Findex.html&code={airportcode}&month={month}&day={day}&year={year}'\n",
    "    response = urllib2.urlopen(url.format(year=year, day=day, month=month, airportcode=airportcode))\n",
    "    html = response.read()\n",
    "    \n",
    "    soup = BeautifulSoup(html, \"html.parser\")\n",
    "    \n",
    "    table = soup.find(\"table\", attrs={\"id\": \"historyTable\"})\n",
    "    \n",
    "    return parseHistoryTable(table)"
   ]
  },
  {
   "cell_type": "code",
   "execution_count": 85,
   "metadata": {
    "collapsed": false
   },
   "outputs": [
    {
     "data": {
      "text/plain": [
       "{'events': 'Fog',\n",
       " 'humidity': 66,\n",
       " 'precipitation': 0.0,\n",
       " 'sealevelpressure': 30.0,\n",
       " 'temperature': 57,\n",
       " 'visibility': 15.8,\n",
       " 'windspeed': 6.0}"
      ]
     },
     "execution_count": 85,
     "metadata": {},
     "output_type": "execute_result"
    }
   ],
   "source": [
    "year = 2015\n",
    "day = 3\n",
    "month = 10\n",
    "airportcode = 'FRA'\n",
    "\n",
    "getWeather(2015, 3, 10, airportcode)"
   ]
  },
  {
   "cell_type": "code",
   "execution_count": 99,
   "metadata": {
    "collapsed": false
   },
   "outputs": [],
   "source": [
    "# lazy load dictionary\n",
    "weatherDict = {}\n",
    "weatherFile = os.path.join('..', 'cache', 'weather_data.json')\n",
    "if file_exists(weatherFile):\n",
    "    # load current dict from json to cache results\n",
    "    with open(weatherFile) as infile:\n",
    "        weatherDict = json.load(infile)\n",
    "    \n",
    "\n"
   ]
  },
  {
   "cell_type": "code",
   "execution_count": 100,
   "metadata": {
    "collapsed": false
   },
   "outputs": [
    {
     "data": {
      "text/plain": [
       "False"
      ]
     },
     "execution_count": 100,
     "metadata": {},
     "output_type": "execute_result"
    }
   ],
   "source": [
    "file_exists(weatherFile)"
   ]
  },
  {
   "cell_type": "code",
   "execution_count": null,
   "metadata": {
    "collapsed": false
   },
   "outputs": [],
   "source": []
  },
  {
   "cell_type": "code",
   "execution_count": null,
   "metadata": {
    "collapsed": true
   },
   "outputs": [],
   "source": []
  }
 ],
 "metadata": {
  "kernelspec": {
   "display_name": "Python 2",
   "language": "python",
   "name": "python2"
  },
  "language_info": {
   "codemirror_mode": {
    "name": "ipython",
    "version": 2
   },
   "file_extension": ".py",
   "mimetype": "text/x-python",
   "name": "python",
   "nbconvert_exporter": "python",
   "pygments_lexer": "ipython2",
   "version": "2.7.10"
  }
 },
 "nbformat": 4,
 "nbformat_minor": 0
}
