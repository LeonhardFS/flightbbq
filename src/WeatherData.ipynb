{
 "cells": [
  {
   "cell_type": "code",
   "execution_count": 4,
   "metadata": {
    "collapsed": false
   },
   "outputs": [],
   "source": [
    "import datetime\n",
    "from os import rename\n",
    "from os.path import splitext\n",
    "from calendar import month_name\n",
    "from httplib import HTTPConnection\n",
    "from time import clock\n",
    "from urllib import urlretrieve\n",
    "import urllib2\n",
    "from zipfile import ZipFile\n",
    "import numpy as np\n",
    "from bs4 import BeautifulSoup\n",
    "\n",
    "from data_scraper import *\n",
    "\n",
    "import os\n",
    "import errno\n",
    "import humanize\n",
    "import sys\n",
    "import json\n",
    "import pandas as pd"
   ]
  },
  {
   "cell_type": "code",
   "execution_count": 5,
   "metadata": {
    "collapsed": false
   },
   "outputs": [],
   "source": [
    "def parseHistoryTable(table):\n",
    "    temperature = 0 # in degree F\n",
    "    events = '' # some string i.e. rain\n",
    "    humidity = 0 # humidity in %\n",
    "    precipitation = 0 # in inch\n",
    "    sealevelpressure = 0 # in inch\n",
    "    visibility = 0 # in miles\n",
    "    windspeed = 0 # in miles per hour\n",
    "\n",
    "    # skip the first entries of some fields...\n",
    "    skipprec = True\n",
    "    skippres = True\n",
    "\n",
    "    # Find all the <tr> tag pairs, skip the first one, then for each.\n",
    "    for row in table.find_all('tr')[1:]:\n",
    "        # Create a variable of all the <td> tag pairs in each <tr> tag pair,\n",
    "        col = row.find_all('td')\n",
    "\n",
    "        # only retrieve relevant columns\n",
    "        if col[0].text == 'Mean Temperature':\n",
    "            try:\n",
    "                temperature = int(col[1].find('span', attrs={\"class\": \"wx-value\"}).text)\n",
    "            except:\n",
    "                temperature = 9999\n",
    "        if col[0].text == 'Average Humidity':\n",
    "            try:\n",
    "                humidity = int(col[1].text)\n",
    "            except:\n",
    "                humidity = -1\n",
    "        if col[0].text == 'Precipitation':\n",
    "            if not skipprec:\n",
    "                try:\n",
    "                    precipitation = float(col[1].find('span', attrs={\"class\": \"wx-value\"}).text)\n",
    "                except:\n",
    "                    precipitation = -1.\n",
    "            skipprec = False\n",
    "        if col[0].text == 'Sea Level Pressure':\n",
    "            if not skippres:\n",
    "                try:\n",
    "                    sealevelpressure = float(col[1].find('span', attrs={\"class\": \"wx-value\"}).text)\n",
    "                except:\n",
    "                    sealevelpressure = -1.\n",
    "            skippres = False\n",
    "        if col[0].text == 'Visibility':\n",
    "            try:\n",
    "                visibility = float(col[1].find('span', attrs={\"class\": \"wx-value\"}).text)\n",
    "            except:\n",
    "                visibility = -1.\n",
    "        if col[0].text == 'Wind Speed':\n",
    "            try:\n",
    "                windspeed = float(col[1].find('span', attrs={\"class\": \"wx-value\"}).text)\n",
    "            except:\n",
    "                windspeed = -1.\n",
    "        if col[0].text == 'Events':\n",
    "            try:\n",
    "                events = col[1].text\n",
    "            except:\n",
    "                events = '?'\n",
    "    # return as dictionary\n",
    "    d = dict(zip(['temperature', 'events', 'humidity', 'precipitation', 'sealevelpressure', 'visibility', 'windspeed'], \\\n",
    "    [temperature, events, humidity, precipitation, sealevelpressure, visibility, windspeed]))\n",
    "    \n",
    "    return d\n",
    "\n",
    "def getWeather(year, month, day, airportcode):\n",
    "    url = 'http://www.wunderground.com/cgi-bin/findweather/getForecast?airportorwmo=query&historytype=DailyHistory&backurl=%2Fhistory%2Findex.html&code={airportcode}&month={month}&day={day}&year={year}'\n",
    "    response = urllib2.urlopen(url.format(year=year, day=day, month=month, airportcode=airportcode))\n",
    "    html = response.read()\n",
    "    \n",
    "    soup = BeautifulSoup(html, \"html.parser\")\n",
    "    \n",
    "    table = soup.find(\"table\", attrs={\"id\": \"historyTable\"})\n",
    "    \n",
    "    return parseHistoryTable(table)"
   ]
  },
  {
   "cell_type": "code",
   "execution_count": 6,
   "metadata": {
    "collapsed": false
   },
   "outputs": [
    {
     "data": {
      "text/plain": [
       "{'events': u'\\nFog\\n\\t,\\nRain\\n',\n",
       " 'humidity': 91,\n",
       " 'precipitation': 0.02,\n",
       " 'sealevelpressure': 30.32,\n",
       " 'temperature': 40,\n",
       " 'visibility': 7.6,\n",
       " 'windspeed': 3.0}"
      ]
     },
     "execution_count": 6,
     "metadata": {},
     "output_type": "execute_result"
    }
   ],
   "source": [
    "year = 2015\n",
    "day = 3\n",
    "month = 10\n",
    "airportcode = 'FRA'\n",
    "\n",
    "getWeather(2015, 3, 10, airportcode)"
   ]
  },
  {
   "cell_type": "code",
   "execution_count": 7,
   "metadata": {
    "collapsed": false
   },
   "outputs": [],
   "source": [
    "# lazy load dictionary\n",
    "weatherDict = {}\n",
    "weatherFile = os.path.join('..', 'cache', 'weather_data.json')\n",
    "if file_exists(weatherFile):\n",
    "    # load current dict from json to cache results\n",
    "    with open(weatherFile) as infile:\n",
    "        weatherDict = json.load(infile)\n",
    "\n",
    "# read airport list\n",
    "dfairports = pd.read_csv(os.path.join('..', 'data', 'airports.csv'), header=None)"
   ]
  },
  {
   "cell_type": "code",
   "execution_count": 29,
   "metadata": {
    "collapsed": false
   },
   "outputs": [
    {
     "name": "stdout",
     "output_type": "stream",
     "text": [
      "processing KOAK (1/40)...\n",
      "GET 20140101\n",
      "GET 20140102\n",
      "GET 20140103\n",
      "processing MCI (2/40)...\n",
      "GET 20140101\n",
      "GET 20140102\n",
      "GET 20140103\n",
      "processing BNA (3/40)...\n",
      "GET 20140101\n",
      "GET 20140102\n",
      "GET 20140103\n",
      "processing AUS (4/40)...\n",
      "GET 20140101\n",
      "GET 20140102\n",
      "GET 20140103\n"
     ]
    }
   ],
   "source": [
    "from datetime import timedelta, date\n",
    "\n",
    "# take 2014\n",
    "year = 2014\n",
    "\n",
    "# iterate over all airports\n",
    "pos = 1\n",
    "for key, item in dfairports.iterrows():\n",
    "    airport = item.values[0]\n",
    "    \n",
    "    print 'processing %s (%d/%d)...' % (airport, pos, dfairports.count())\n",
    "    pos += 1\n",
    "                                     \n",
    "    start_date = date(year, 1, 1)\n",
    "    end_date = date(year, 12, 31)\n",
    "    d = start_date\n",
    "    delta = datetime.timedelta(days=1)\n",
    "\n",
    "    # iterate over one year to get the data from it\n",
    "    rows = []\n",
    "    date_keys = []\n",
    "    \n",
    "    # check if for airport data exists already\n",
    "    if airport in weatherDict.keys():\n",
    "        rows = weatherDict[airport]\n",
    "        date_keys = [el['date'] for el in rows]\n",
    "    \n",
    "    while d <= end_date:\n",
    "        key = '%04d%02d%02d' % (d.year, d.month, d.day)\n",
    "        \n",
    "        # data already requested? --> skip!\n",
    "        if not key in date_keys:\n",
    "            print 'GET %s' % key\n",
    "            rows.append(dict([('data', getWeather(d.year, d.month, d.day, airport)), ('date', key)]))\n",
    "        d += delta\n",
    "    weatherDict[airport] = rows\n",
    "    \n",
    "    # save current JSON!\n",
    "    with open(weatherFile, 'wb') as outfile:\n",
    "        json.dump(weatherDict, outfile)\n",
    "        \n",
    "# save JSON!\n",
    "with open(weatherFile, 'wb') as outfile:\n",
    "    json.dump(weatherDict, outfile)"
   ]
  }
 ],
 "metadata": {
  "kernelspec": {
   "display_name": "Python 2",
   "language": "python",
   "name": "python2"
  },
  "language_info": {
   "codemirror_mode": {
    "name": "ipython",
    "version": 2
   },
   "file_extension": ".py",
   "mimetype": "text/x-python",
   "name": "python",
   "nbconvert_exporter": "python",
   "pygments_lexer": "ipython2",
   "version": "2.7.10"
  }
 },
 "nbformat": 4,
 "nbformat_minor": 0
}
