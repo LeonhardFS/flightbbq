{
 "cells": [
  {
   "cell_type": "markdown",
   "metadata": {},
   "source": [
    "# Arrival delay time prediction"
   ]
  },
  {
   "cell_type": "code",
   "execution_count": 1,
   "metadata": {
    "collapsed": false
   },
   "outputs": [],
   "source": [
    "%matplotlib inline\n",
    "# import required modules for prediction tasks\n",
    "import numpy as np\n",
    "import pandas as pd\n",
    "import math\n",
    "import random\n",
    "import requests\n",
    "import zipfile\n",
    "import StringIO\n",
    "import re\n",
    "import json\n",
    "import os\n",
    "import requests, zipfile, StringIO"
   ]
  },
  {
   "cell_type": "markdown",
   "metadata": {},
   "source": [
    "In this notebook, we want to develop a model to predict arrival delay time for flights between two cities. As our primary example we investigate flights from New York(all airports) to Chicago(all airports)"
   ]
  },
  {
   "cell_type": "markdown",
   "metadata": {},
   "source": [
    "### get the data"
   ]
  },
  {
   "cell_type": "code",
   "execution_count": 2,
   "metadata": {
    "collapsed": true
   },
   "outputs": [],
   "source": [
    "# given a list of column labels remove all columns that are in the df\n",
    "def filterDF(df, cols):\n",
    "    colsToKeep = list(set(df.columns) & set(cols))\n",
    "    \n",
    "    return df[colsToKeep]"
   ]
  },
  {
   "cell_type": "code",
   "execution_count": 3,
   "metadata": {
    "collapsed": true
   },
   "outputs": [],
   "source": [
    "# given a dataframe this function groups all manufacturers into one category whose market share is low (default: 1%)\n",
    "# also groups together some companies\n",
    "def compressManufacturers(df, percentage=1.):\n",
    "    df['AIRCRAFT_MFR'] = df['AIRCRAFT_MFR'].map(lambda x: x.strip())\n",
    "    mfr_stats = df['AIRCRAFT_MFR'].value_counts()\n",
    "    \n",
    "    market_share = mfr_stats.values * 100. / np.sum(mfr_stats.values)\n",
    "    idxs = np.where(market_share < percentage)\n",
    "    names = np.array([el for el in list(mfr_stats.keys())])\n",
    "\n",
    "    # get labels for small manufacturers\n",
    "    smallMFR = names[idxs]\n",
    "\n",
    "    # perform merging for the big companies\n",
    "    # Douglas airplanes\n",
    "    df.loc[df['AIRCRAFT_MFR'] == 'MCDONNELL DOUGLAS AIRCRAFT CO', 'AIRCRAFT_MFR'] = 'MCDONNELL DOUGLAS'\n",
    "    df.loc[df['AIRCRAFT_MFR'] == 'MCDONNELL DOUGLAS CORPORATION', 'AIRCRAFT_MFR'] = 'MCDONNELL DOUGLAS'\n",
    "    df.loc[df['AIRCRAFT_MFR'] == 'MCDONNELL DOUGLAS CORPORATION', 'AIRCRAFT_MFR'] = 'DOUGLAS'\n",
    "\n",
    "    # Embraer\n",
    "    df.loc[df['AIRCRAFT_MFR'] == 'EMBRAER S A', 'AIRCRAFT_MFR'] = 'EMBRAER'\n",
    "\n",
    "    # Airbus\n",
    "    df.loc[df['AIRCRAFT_MFR'] == 'AIRBUS INDUSTRIE', 'AIRCRAFT_MFR'] = 'AIRBUS'\n",
    "\n",
    "    # the small manufacturers\n",
    "    for name in smallMFR:\n",
    "        df.loc[df['AIRCRAFT_MFR'] == name, 'AIRCRAFT_MFR'] = 'SMALL'\n",
    "        \n",
    "    return df"
   ]
  },
  {
   "cell_type": "markdown",
   "metadata": {},
   "source": [
    "To get external aircraft data load additional data file"
   ]
  },
  {
   "cell_type": "code",
   "execution_count": 4,
   "metadata": {
    "collapsed": true
   },
   "outputs": [],
   "source": [
    "z = zipfile.ZipFile('externalData/AircraftInformation.zip')\n",
    "df_master  = pd.DataFrame.from_csv(z.open('MASTER.txt'))\n",
    "df_aircrafts  = pd.DataFrame.from_csv(z.open('ACFTREF.txt'))\n",
    "master = df_master[['MFR MDL CODE', 'YEAR MFR']].reset_index()\n",
    "aircrafts = df_aircrafts['MFR'].reset_index()\n",
    "master.columns = ['TAIL_NUM', 'CODE', 'YEAR']\n",
    "aircrafts.columns = ['CODE', 'MFR']\n",
    "joinedAircraftInfo = pd.merge(master, aircrafts, how='left', on='CODE')"
   ]
  },
  {
   "cell_type": "code",
   "execution_count": 5,
   "metadata": {
    "collapsed": false
   },
   "outputs": [],
   "source": [
    "joinedAircraftInfo.TAIL_NUM = joinedAircraftInfo.TAIL_NUM.apply(lambda x: x.strip())"
   ]
  },
  {
   "cell_type": "code",
   "execution_count": 6,
   "metadata": {
    "collapsed": true
   },
   "outputs": [],
   "source": [
    "# possible fields\n",
    "# [u'YEAR', u'QUARTER', u'MONTH', u'DAY_OF_MONTH', u'DAY_OF_WEEK',\n",
    "#        u'FL_DATE', u'UNIQUE_CARRIER', u'AIRLINE_ID', u'CARRIER', u'TAIL_NUM',\n",
    "#        u'FL_NUM', u'ORIGIN', u'ORIGIN_CITY_NAME', u'ORIGIN_STATE_ABR',\n",
    "#        u'ORIGIN_STATE_FIPS', u'ORIGIN_STATE_NM', u'ORIGIN_WAC', u'DEST',\n",
    "#        u'DEST_CITY_NAME', u'DEST_STATE_ABR', u'DEST_STATE_FIPS',\n",
    "#        u'DEST_STATE_NM', u'DEST_WAC', u'CRS_DEP_TIME', u'DEP_TIME',\n",
    "#        u'DEP_DELAY', u'DEP_DELAY_NEW', u'DEP_DEL15', u'DEP_DELAY_GROUP',\n",
    "#        u'DEP_TIME_BLK', u'TAXI_OUT', u'WHEELS_OFF', u'WHEELS_ON', u'TAXI_IN',\n",
    "#        u'CRS_ARR_TIME', u'ARR_TIME', u'ARR_DELAY', u'ARR_DELAY_NEW',\n",
    "#        u'ARR_DEL15', u'ARR_DELAY_GROUP', u'ARR_TIME_BLK', u'CANCELLED',\n",
    "#        u'CANCELLATION_CODE', u'DIVERTED', u'CRS_ELAPSED_TIME',\n",
    "#        u'ACTUAL_ELAPSED_TIME', u'AIR_TIME', u'FLIGHTS', u'DISTANCE',\n",
    "#        u'DISTANCE_GROUP', u'CARRIER_DELAY', u'WEATHER_DELAY', u'NAS_DELAY',\n",
    "#        u'SECURITY_DELAY', u'LATE_AIRCRAFT_DELAY', u'FIRST_DEP_TIME',\n",
    "#        u'TOTAL_ADD_GTIME', u'LONGEST_ADD_GTIME', u'DIV_AIRPORT_LANDINGS',\n",
    "#        u'DIV_REACHED_DEST', u'DIV_ACTUAL_ELAPSED_TIME', u'DIV_ARR_DELAY',\n",
    "#        u'DIV_DISTANCE', u'DIV1_AIRPORT', u'DIV1_WHEELS_ON',\n",
    "#        u'DIV1_TOTAL_GTIME', u'DIV1_LONGEST_GTIME', u'DIV1_WHEELS_OFF',\n",
    "#        u'DIV1_TAIL_NUM', u'DIV2_AIRPORT', u'DIV2_WHEELS_ON',\n",
    "#        u'DIV2_TOTAL_GTIME', u'DIV2_LONGEST_GTIME', u'DIV2_WHEELS_OFF',\n",
    "#        u'DIV2_TAIL_NUM', u'DIV3_AIRPORT', u'DIV3_WHEELS_ON',\n",
    "#        u'DIV3_TOTAL_GTIME', u'DIV3_LONGEST_GTIME', u'DIV3_WHEELS_OFF',\n",
    "#        u'DIV3_TAIL_NUM', u'DIV4_AIRPORT', u'DIV4_WHEELS_ON',\n",
    "#        u'DIV4_TOTAL_GTIME', u'DIV4_LONGEST_GTIME', u'DIV4_WHEELS_OFF',\n",
    "#        u'DIV4_TAIL_NUM', u'DIV5_AIRPORT', u'DIV5_WHEELS_ON',\n",
    "#        u'DIV5_TOTAL_GTIME', u'DIV5_LONGEST_GTIME', u'DIV5_WHEELS_OFF',\n",
    "#        u'DIV5_TAIL_NUM', u'Unnamed: 93', u'AIRCRAFT_YEAR', u'AIRCRAFT_AGE',\n",
    "#        u'AIRCRAFT_MFR']\n",
    "\n",
    "# define here which columns to include in the data extraction process\n",
    "columnsToUse = [u'YEAR', u'QUARTER', u'MONTH', u'DAY_OF_MONTH', u'DAY_OF_WEEK',\n",
    "       u'FL_DATE', u'UNIQUE_CARRIER', u'AIRLINE_ID',u'TAIL_NUM',\n",
    "       u'FL_NUM', u'ORIGIN', u'ORIGIN_CITY_NAME',\n",
    "       u'ORIGIN_STATE_NM', u'ORIGIN_WAC', u'DEST',\n",
    "       u'DEST_CITY_NAME',u'ARR_DELAY', u'ARR_DELAY_NEW',\n",
    "       u'ARR_DEL15', u'CANCELLED', u'DIVERTED', u'DISTANCE',u'AIRCRAFT_YEAR', u'AIRCRAFT_AGE',\n",
    "       u'AIRCRAFT_MFR']"
   ]
  },
  {
   "cell_type": "code",
   "execution_count": 7,
   "metadata": {
    "collapsed": true
   },
   "outputs": [],
   "source": [
    "# given the raw BTS data, this function filters it and returns \n",
    "# a filtered version along with how much percent has been removed\n",
    "def processData(rawData):\n",
    "    # filter for city first\n",
    "    filteredData = rawData[(rawData.ORIGIN_CITY_NAME == city_from) & (rawData.DEST_CITY_NAME == city_to)]\n",
    "\n",
    "    # this is how much percent have been cleaned away!\n",
    "    cleaned_away = filteredData.count()[0]\n",
    "\n",
    "    # remove columns that are not needed for the model\n",
    "    filteredData = filterDF(filteredData, columnsToUse)\n",
    "    filteredData.reset_index(inplace=True)\n",
    "\n",
    "    # perform as next step join to amend information by aircraftdata\n",
    "    delayFinal = filteredData[['TAIL_NUM','UNIQUE_CARRIER']]\n",
    "    delayFinal.TAIL_NUM = delayFinal.TAIL_NUM.str.strip('N')\n",
    "    delaymfr = pd.merge(delayFinal, joinedAircraftInfo, how='left', on=['TAIL_NUM'])\n",
    "    filteredData.TAIL_NUM = delaymfr.TAIL_NUM\n",
    "    filteredData['AIRCRAFT_YEAR'] = delaymfr.YEAR\n",
    "    filteredData['AIRCRAFT_MFR'] = delaymfr.MFR\n",
    "\n",
    "    # get rid of NAN values\n",
    "    filteredData.dropna(axis = 0, inplace = True)\n",
    "\n",
    "    # get rid of empty year values\n",
    "    filteredData = filteredData[filteredData['AIRCRAFT_YEAR'] != '    ']\n",
    "\n",
    "    # compute age of aircraft\n",
    "    filteredData['AIRCRAFT_AGE'] = filteredData.YEAR.astype(int) - filteredData.AIRCRAFT_YEAR.astype(int)\n",
    "\n",
    "    # now, compress manufacturers to only a small amount of companies\n",
    "    filteredData = compressManufacturers(filteredData)\n",
    "\n",
    "    cleaned_away = 1. - filteredData.count()[0] * 1. / cleaned_away\n",
    "    return filteredData, cleaned_away"
   ]
  },
  {
   "cell_type": "code",
   "execution_count": 37,
   "metadata": {
    "collapsed": false
   },
   "outputs": [
    {
     "name": "stdout",
     "output_type": "stream",
     "text": [
      "reading 201001.zip\n",
      "processing 201001.zip\n",
      "==> cleaned away 0.370071684588%\n",
      "==> added entries: 703\n",
      "reading 201002.zip\n",
      "processing 201002.zip\n",
      "==> cleaned away 0.399608227228%\n",
      "==> added entries: 613\n",
      "CPU times: user 17.7 s, sys: 3.12 s, total: 20.8 s\n",
      "Wall time: 23.7 s\n"
     ]
    }
   ],
   "source": [
    "%%time\n",
    "# specify here which cities should be investigated\n",
    "city_from = 'New York, NY'\n",
    "city_to = 'Chicago, IL'\n",
    "\n",
    "# the dataframe to store everything in\n",
    "bigdf = None\n",
    "ca_statistic = []\n",
    "\n",
    "years = ['2010', '2011', '2012', '2013', '2014']\n",
    "months = ['01', '02', '03', '04', '05', '06', '07', '08', '09', '10', '11', '12']\n",
    "years = ['2010']\n",
    "months = ['01', '02']\n",
    "for y in years:\n",
    "    for m in months:\n",
    "        \n",
    "        print 'reading {y}{mo}.zip'.format(y=y, mo = m)\n",
    "        z = zipfile.ZipFile('cache/{y}{mo}.zip'.format(y=y, mo = m))\n",
    "        rawData = pd.read_csv(z.open(z.namelist()[0]), low_memory=False)\n",
    "\n",
    "        print 'processing {y}{mo}.zip'.format(y=y, mo = m)\n",
    "        df, ca = processData(rawData)\n",
    "        if bigdf is None:\n",
    "            bigdf = df\n",
    "        else:\n",
    "            bigdf = bigdf.append(df, ignore_index=True)\n",
    "        ca_statistic.append(('{y}{mo}.zip'.format(y=y, mo = m), ca))\n",
    "        print '==> cleaned away {pc}%'.format(pc=ca)\n",
    "        print '==> added entries: {ne}'.format(ne=df.count()[0])"
   ]
  },
  {
   "cell_type": "code",
   "execution_count": null,
   "metadata": {
    "collapsed": true
   },
   "outputs": [],
   "source": []
  }
 ],
 "metadata": {
  "kernelspec": {
   "display_name": "Python 2",
   "language": "python",
   "name": "python2"
  },
  "language_info": {
   "codemirror_mode": {
    "name": "ipython",
    "version": 2
   },
   "file_extension": ".py",
   "mimetype": "text/x-python",
   "name": "python",
   "nbconvert_exporter": "python",
   "pygments_lexer": "ipython2",
   "version": "2.7.10"
  }
 },
 "nbformat": 4,
 "nbformat_minor": 0
}
