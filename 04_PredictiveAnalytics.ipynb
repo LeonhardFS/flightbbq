{
 "cells": [
  {
   "cell_type": "markdown",
   "metadata": {},
   "source": [
    "# Predictive Delay Analytics"
   ]
  },
  {
   "cell_type": "code",
   "execution_count": 2,
   "metadata": {
    "collapsed": true
   },
   "outputs": [],
   "source": [
    "%matplotlib inline\n",
    "# import required modules for prediction tasks\n",
    "import numpy as np\n",
    "import pandas as pd\n",
    "import math\n",
    "import random"
   ]
  },
  {
   "cell_type": "markdown",
   "metadata": {},
   "source": [
    "## 0. Data acquisition and cleaning"
   ]
  },
  {
   "cell_type": "code",
   "execution_count": null,
   "metadata": {
    "collapsed": false
   },
   "outputs": [
    {
     "name": "stdout",
     "output_type": "stream",
     "text": [
      "Wall time: 1min 49s\n"
     ]
    }
   ],
   "source": [
    "%%time\n",
    "# reads all predefined months for a year and merge into one data frame\n",
    "rawData2014 = pd.DataFrame.from_csv('cache/predictionData/complete2014Data.csv')"
   ]
  },
  {
   "cell_type": "code",
   "execution_count": 3,
   "metadata": {
    "collapsed": false
   },
   "outputs": [
    {
     "name": "stdout",
     "output_type": "stream",
     "text": [
      "Index([u'index', u'FL_DATE', u'UNIQUE_CARRIER', u'TAIL_NUM', u'FL_NUM',\n",
      "       u'ORIGIN', u'DEST', u'CRS_DEP_TIME', u'DEP_TIME', u'DEP_DELAY',\n",
      "       u'TAXI_OUT', u'WHEELS_OFF', u'WHEELS_ON', u'TAXI_IN', u'CRS_ARR_TIME',\n",
      "       u'ARR_TIME', u'ARR_DELAY', u'CANCELLED', u'CANCELLATION_CODE',\n",
      "       u'AIR_TIME', u'DISTANCE', u'CARRIER_DELAY', u'WEATHER_DELAY',\n",
      "       u'NAS_DELAY', u'SECURITY_DELAY', u'LATE_AIRCRAFT_DELAY',\n",
      "       u'AIRCRAFT_YEAR', u'AIRCRAFT_MFR', u'LAT', u'LONG'],\n",
      "      dtype='object')\n"
     ]
    },
    {
     "data": {
      "text/html": [
       "<div>\n",
       "<table border=\"1\" class=\"dataframe\">\n",
       "  <thead>\n",
       "    <tr style=\"text-align: right;\">\n",
       "      <th></th>\n",
       "      <th>index</th>\n",
       "      <th>FL_DATE</th>\n",
       "      <th>UNIQUE_CARRIER</th>\n",
       "      <th>TAIL_NUM</th>\n",
       "      <th>FL_NUM</th>\n",
       "      <th>ORIGIN</th>\n",
       "      <th>DEST</th>\n",
       "      <th>CRS_DEP_TIME</th>\n",
       "      <th>DEP_TIME</th>\n",
       "      <th>DEP_DELAY</th>\n",
       "      <th>...</th>\n",
       "      <th>DISTANCE</th>\n",
       "      <th>CARRIER_DELAY</th>\n",
       "      <th>WEATHER_DELAY</th>\n",
       "      <th>NAS_DELAY</th>\n",
       "      <th>SECURITY_DELAY</th>\n",
       "      <th>LATE_AIRCRAFT_DELAY</th>\n",
       "      <th>AIRCRAFT_YEAR</th>\n",
       "      <th>AIRCRAFT_MFR</th>\n",
       "      <th>LAT</th>\n",
       "      <th>LONG</th>\n",
       "    </tr>\n",
       "  </thead>\n",
       "  <tbody>\n",
       "    <tr>\n",
       "      <th>0</th>\n",
       "      <td>0</td>\n",
       "      <td>2014-01-01</td>\n",
       "      <td>AA</td>\n",
       "      <td>N338AA</td>\n",
       "      <td>1</td>\n",
       "      <td>JFK</td>\n",
       "      <td>LAX</td>\n",
       "      <td>900</td>\n",
       "      <td>914</td>\n",
       "      <td>14</td>\n",
       "      <td>...</td>\n",
       "      <td>2475</td>\n",
       "      <td>NaN</td>\n",
       "      <td>NaN</td>\n",
       "      <td>NaN</td>\n",
       "      <td>NaN</td>\n",
       "      <td>NaN</td>\n",
       "      <td>1987</td>\n",
       "      <td>BOEING</td>\n",
       "      <td>40.633333</td>\n",
       "      <td>-73.783333</td>\n",
       "    </tr>\n",
       "    <tr>\n",
       "      <th>1</th>\n",
       "      <td>1</td>\n",
       "      <td>2014-01-02</td>\n",
       "      <td>AA</td>\n",
       "      <td>N338AA</td>\n",
       "      <td>1</td>\n",
       "      <td>JFK</td>\n",
       "      <td>LAX</td>\n",
       "      <td>900</td>\n",
       "      <td>857</td>\n",
       "      <td>-3</td>\n",
       "      <td>...</td>\n",
       "      <td>2475</td>\n",
       "      <td>NaN</td>\n",
       "      <td>NaN</td>\n",
       "      <td>NaN</td>\n",
       "      <td>NaN</td>\n",
       "      <td>NaN</td>\n",
       "      <td>1987</td>\n",
       "      <td>BOEING</td>\n",
       "      <td>40.633333</td>\n",
       "      <td>-73.783333</td>\n",
       "    </tr>\n",
       "    <tr>\n",
       "      <th>2</th>\n",
       "      <td>2</td>\n",
       "      <td>2014-01-03</td>\n",
       "      <td>AA</td>\n",
       "      <td>N323AA</td>\n",
       "      <td>1</td>\n",
       "      <td>JFK</td>\n",
       "      <td>LAX</td>\n",
       "      <td>900</td>\n",
       "      <td>NaN</td>\n",
       "      <td>NaN</td>\n",
       "      <td>...</td>\n",
       "      <td>2475</td>\n",
       "      <td>NaN</td>\n",
       "      <td>NaN</td>\n",
       "      <td>NaN</td>\n",
       "      <td>NaN</td>\n",
       "      <td>NaN</td>\n",
       "      <td>NaN</td>\n",
       "      <td>NaN</td>\n",
       "      <td>40.633333</td>\n",
       "      <td>-73.783333</td>\n",
       "    </tr>\n",
       "    <tr>\n",
       "      <th>3</th>\n",
       "      <td>3</td>\n",
       "      <td>2014-01-04</td>\n",
       "      <td>AA</td>\n",
       "      <td>N327AA</td>\n",
       "      <td>1</td>\n",
       "      <td>JFK</td>\n",
       "      <td>LAX</td>\n",
       "      <td>900</td>\n",
       "      <td>1005</td>\n",
       "      <td>65</td>\n",
       "      <td>...</td>\n",
       "      <td>2475</td>\n",
       "      <td>0</td>\n",
       "      <td>59</td>\n",
       "      <td>0</td>\n",
       "      <td>0</td>\n",
       "      <td>0</td>\n",
       "      <td>1986</td>\n",
       "      <td>BOEING</td>\n",
       "      <td>40.633333</td>\n",
       "      <td>-73.783333</td>\n",
       "    </tr>\n",
       "    <tr>\n",
       "      <th>4</th>\n",
       "      <td>4</td>\n",
       "      <td>2014-01-05</td>\n",
       "      <td>AA</td>\n",
       "      <td>N323AA</td>\n",
       "      <td>1</td>\n",
       "      <td>JFK</td>\n",
       "      <td>LAX</td>\n",
       "      <td>900</td>\n",
       "      <td>1050</td>\n",
       "      <td>110</td>\n",
       "      <td>...</td>\n",
       "      <td>2475</td>\n",
       "      <td>0</td>\n",
       "      <td>110</td>\n",
       "      <td>0</td>\n",
       "      <td>0</td>\n",
       "      <td>0</td>\n",
       "      <td>NaN</td>\n",
       "      <td>NaN</td>\n",
       "      <td>40.633333</td>\n",
       "      <td>-73.783333</td>\n",
       "    </tr>\n",
       "  </tbody>\n",
       "</table>\n",
       "<p>5 rows × 30 columns</p>\n",
       "</div>"
      ],
      "text/plain": [
       "   index     FL_DATE UNIQUE_CARRIER TAIL_NUM  FL_NUM ORIGIN DEST  \\\n",
       "0      0  2014-01-01             AA   N338AA       1    JFK  LAX   \n",
       "1      1  2014-01-02             AA   N338AA       1    JFK  LAX   \n",
       "2      2  2014-01-03             AA   N323AA       1    JFK  LAX   \n",
       "3      3  2014-01-04             AA   N327AA       1    JFK  LAX   \n",
       "4      4  2014-01-05             AA   N323AA       1    JFK  LAX   \n",
       "\n",
       "   CRS_DEP_TIME  DEP_TIME  DEP_DELAY    ...      DISTANCE  CARRIER_DELAY  \\\n",
       "0           900       914         14    ...          2475            NaN   \n",
       "1           900       857         -3    ...          2475            NaN   \n",
       "2           900       NaN        NaN    ...          2475            NaN   \n",
       "3           900      1005         65    ...          2475              0   \n",
       "4           900      1050        110    ...          2475              0   \n",
       "\n",
       "   WEATHER_DELAY  NAS_DELAY  SECURITY_DELAY  LATE_AIRCRAFT_DELAY  \\\n",
       "0            NaN        NaN             NaN                  NaN   \n",
       "1            NaN        NaN             NaN                  NaN   \n",
       "2            NaN        NaN             NaN                  NaN   \n",
       "3             59          0               0                    0   \n",
       "4            110          0               0                    0   \n",
       "\n",
       "   AIRCRAFT_YEAR                    AIRCRAFT_MFR        LAT       LONG  \n",
       "0           1987  BOEING                          40.633333 -73.783333  \n",
       "1           1987  BOEING                          40.633333 -73.783333  \n",
       "2            NaN                             NaN  40.633333 -73.783333  \n",
       "3           1986  BOEING                          40.633333 -73.783333  \n",
       "4            NaN                             NaN  40.633333 -73.783333  \n",
       "\n",
       "[5 rows x 30 columns]"
      ]
     },
     "execution_count": 3,
     "metadata": {},
     "output_type": "execute_result"
    }
   ],
   "source": [
    "print rawData2014.columns\n",
    "rawData2014.head(5)"
   ]
  },
  {
   "cell_type": "markdown",
   "metadata": {},
   "source": [
    "### Cleaning the data"
   ]
  },
  {
   "cell_type": "markdown",
   "metadata": {},
   "source": [
    "When cleaning the data set, we have to remove the following entries:\n",
    "\n",
    "- flights that have been cancelled or diverted. We focus on predicting the delay. As a result, we also remove the columns associated with diverted flights.\n",
    "- colmuns that give the answer. This is the case of many colmuns related to the arrival of the plane\n",
    "- rows where a value is missing\n",
    "\n",
    "Note that data points have to be cleaned in this order because most flights have empty entries for the 'diverted' columns."
   ]
  },
  {
   "cell_type": "code",
   "execution_count": 4,
   "metadata": {
    "collapsed": true
   },
   "outputs": [],
   "source": [
    "#entries to be dropped in the analysis\n",
    "columns_dropped = ['index', 'TAIL_NUM', 'FL_NUM', 'DEP_TIME', 'DEP_DELAY', 'TAXI_OUT', 'WHEELS_OFF', \\\n",
    "                   'WHEELS_ON', 'TAXI_IN', 'ARR_TIME', 'CANCELLED', 'CANCELLATION_CODE', 'AIR_TIME', \\\n",
    "                   'CARRIER_DELAY', 'WEATHER_DELAY', 'NAS_DELAY', 'SECURITY_DELAY', 'LATE_AIRCRAFT_DELAY']"
   ]
  },
  {
   "cell_type": "code",
   "execution_count": 5,
   "metadata": {
    "collapsed": true
   },
   "outputs": [],
   "source": [
    "def clean(data, list_col):\n",
    "    ''' \n",
    "    Creates a dataset by excluding undesirable columns\n",
    "\n",
    "    Parameters:\n",
    "    -----------\n",
    "\n",
    "    data: pandas.DataFrame\n",
    "       Flight dataframe  \n",
    "\n",
    "    list_col: <list 'string'>\n",
    "        Comumns to exclude from the data set\n",
    "    '''\n",
    "    \n",
    "    data.drop(data[data.CANCELLED == 0].index, inplace=True)\n",
    "    data.drop(list_col, axis=1, inplace=True)\n",
    "    data.dropna(axis = 0, inplace = True)\n",
    "    return"
   ]
  },
  {
   "cell_type": "code",
   "execution_count": null,
   "metadata": {
    "collapsed": false
   },
   "outputs": [],
   "source": [
    "%%time\n",
    "data2014 = clean(rawData2014.copy(), columns_dropped)\n",
    "print data2014.columns"
   ]
  },
  {
   "cell_type": "code",
   "execution_count": null,
   "metadata": {
    "collapsed": false
   },
   "outputs": [],
   "source": [
    "%%time\n",
    "# save the data to avoid computing them again\n",
    "file_path = \"cache/predictionData/predictionData2014.csv\"\n",
    "data2014.to_csv(path_or_buf= file_path)"
   ]
  },
  {
   "cell_type": "code",
   "execution_count": 121,
   "metadata": {
    "collapsed": false
   },
   "outputs": [
    {
     "name": "stdout",
     "output_type": "stream",
     "text": [
      "Wall time: 10 s\n"
     ]
    }
   ],
   "source": [
    "%%time\n",
    "# recover data2014 from cache/predictionData folder\n",
    "file_path = \"cache/predictionData/predictionData2014.csv\"\n",
    "data2014 = pd.read_csv(file_path)\n",
    "data2014.drop('Unnamed: 0', axis= 1, inplace = True)\n",
    "data2014.columns"
   ]
  },
  {
   "cell_type": "code",
   "execution_count": 122,
   "metadata": {
    "collapsed": false
   },
   "outputs": [
    {
     "name": "stdout",
     "output_type": "stream",
     "text": [
      "size of raw data set: "
     ]
    },
    {
     "ename": "NameError",
     "evalue": "name 'rawData2014' is not defined",
     "output_type": "error",
     "traceback": [
      "\u001b[1;31m---------------------------------------------------------------------------\u001b[0m",
      "\u001b[1;31mNameError\u001b[0m                                 Traceback (most recent call last)",
      "\u001b[1;32m<ipython-input-122-b305143f923a>\u001b[0m in \u001b[0;36m<module>\u001b[1;34m()\u001b[0m\n\u001b[0;32m      1\u001b[0m \u001b[1;31m# test that clean did the job\u001b[0m\u001b[1;33m\u001b[0m\u001b[1;33m\u001b[0m\u001b[0m\n\u001b[1;32m----> 2\u001b[1;33m \u001b[1;32mprint\u001b[0m \u001b[1;34m\"size of raw data set: \"\u001b[0m\u001b[1;33m,\u001b[0m \u001b[0mlen\u001b[0m\u001b[1;33m(\u001b[0m\u001b[0mrawData2014\u001b[0m\u001b[1;33m)\u001b[0m\u001b[1;33m\u001b[0m\u001b[0m\n\u001b[0m\u001b[0;32m      3\u001b[0m \u001b[1;32mprint\u001b[0m \u001b[1;34m\"number of cancelled: \"\u001b[0m\u001b[1;33m,\u001b[0m \u001b[0mlen\u001b[0m\u001b[1;33m(\u001b[0m\u001b[0mrawData2014\u001b[0m\u001b[1;33m[\u001b[0m\u001b[1;33m(\u001b[0m\u001b[0mrawData2014\u001b[0m\u001b[1;33m.\u001b[0m\u001b[0mCANCELLED\u001b[0m \u001b[1;33m==\u001b[0m \u001b[1;36m1\u001b[0m\u001b[1;33m)\u001b[0m\u001b[1;33m]\u001b[0m\u001b[1;33m)\u001b[0m\u001b[1;33m\u001b[0m\u001b[0m\n\u001b[0;32m      4\u001b[0m \u001b[1;32mprint\u001b[0m \u001b[1;34m\"size of data set: \"\u001b[0m\u001b[1;33m,\u001b[0m \u001b[0mlen\u001b[0m\u001b[1;33m(\u001b[0m\u001b[0mdata2014\u001b[0m\u001b[1;33m)\u001b[0m\u001b[1;33m\u001b[0m\u001b[0m\n",
      "\u001b[1;31mNameError\u001b[0m: name 'rawData2014' is not defined"
     ]
    }
   ],
   "source": [
    "# test that clean did the job\n",
    "print \"size of raw data set: \", len(rawData2014)\n",
    "print \"number of cancelled: \", len(rawData2014[(rawData2014.CANCELLED == 1)])\n",
    "print \"size of data set: \", len(data2014)"
   ]
  },
  {
   "cell_type": "markdown",
   "metadata": {},
   "source": [
    "### Restricting the dataset"
   ]
  },
  {
   "cell_type": "markdown",
   "metadata": {},
   "source": [
    "The dataset has more than 4 millions entries, which makes any data manipulation extremely costly - let alone model fitting. We will therefore make some restrictions on the airports and the airlines considered."
   ]
  },
  {
   "cell_type": "code",
   "execution_count": 123,
   "metadata": {
    "collapsed": false
   },
   "outputs": [
    {
     "data": {
      "text/plain": [
       "UNIQUE_CARRIER\n",
       "AA    137960\n",
       "AS    157312\n",
       "B6    225303\n",
       "DL    644768\n",
       "EV    616920\n",
       "F9     81758\n",
       "FL     69486\n",
       "HA     73370\n",
       "MQ      2995\n",
       "OO    586067\n",
       "UA    471093\n",
       "US    381688\n",
       "VX     57056\n",
       "WN    597821\n",
       "dtype: int64"
      ]
     },
     "execution_count": 123,
     "metadata": {},
     "output_type": "execute_result"
    },
    {
     "name": "stdout",
     "output_type": "stream",
     "text": [
      "\n"
     ]
    }
   ],
   "source": [
    "data2014.groupby('UNIQUE_CARRIER').size()"
   ]
  },
  {
   "cell_type": "code",
   "execution_count": 124,
   "metadata": {
    "collapsed": false
   },
   "outputs": [],
   "source": [
    "def restrict_carrier(data, droplist):\n",
    "    for item in droplist:\n",
    "        data.drop(data[data.UNIQUE_CARRIER == item].index, inplace= True)\n",
    "    return "
   ]
  },
  {
   "cell_type": "code",
   "execution_count": 125,
   "metadata": {
    "collapsed": false
   },
   "outputs": [
    {
     "name": "stdout",
     "output_type": "stream",
     "text": [
      "number of points 1115861\n",
      "airlines set(['DL', 'UA'])\n",
      "Wall time: 12.5 s\n"
     ]
    }
   ],
   "source": [
    "%%time\n",
    "drop_airline = [ 'AA', 'AS', 'B6', 'EV', 'F9', 'FL', 'HA', 'MQ', 'OO', 'US', 'VX', 'WN']\n",
    "restrict_carrier(data2014, drop_airline)\n",
    "print \"number of points\", len(data2014)\n",
    "print \"airlines\", set(data2014.UNIQUE_CARRIER)"
   ]
  },
  {
   "cell_type": "markdown",
   "metadata": {},
   "source": [
    "We now focus on the main airports. We look for airports that have on average 50 domestic flight everyday."
   ]
  },
  {
   "cell_type": "code",
   "execution_count": 126,
   "metadata": {
    "collapsed": false
   },
   "outputs": [],
   "source": [
    "def restrict_airport(data, threshold):\n",
    "    dict_count = data2014.groupby(\"DEST\").agg(['count']).LAT.to_dict()['count']\n",
    "    \n",
    "    for key in dict_count:\n",
    "        if dict_count[key] < threshold:\n",
    "            data.drop(data[data.DEST == key].index, inplace=True)\n",
    "            data.drop(data[data.ORIGIN == key].index, inplace=True)\n",
    "    \n",
    "    print data2014.groupby(\"DEST\").agg(['count']).LAT.to_dict()['count']\n",
    "    \n",
    "    return"
   ]
  },
  {
   "cell_type": "markdown",
   "metadata": {},
   "source": [
    "** WARNING ** \\\n",
    "RUN THIS CELL ONLY ONCE!"
   ]
  },
  {
   "cell_type": "code",
   "execution_count": 127,
   "metadata": {
    "collapsed": false
   },
   "outputs": [
    {
     "name": "stderr",
     "output_type": "stream",
     "text": [
      "\n",
      "KeyboardInterrupt\n"
     ]
    }
   ],
   "source": [
    "%%time\n",
    "restrict_airport(data2014, 60*365)\n",
    "dataRes = data2014.copy()\n",
    "print \"number of airports: \", len(set(data2014))\n",
    "print \"dataset size: \", len(data2014)"
   ]
  },
  {
   "cell_type": "code",
   "execution_count": 15,
   "metadata": {
    "collapsed": false
   },
   "outputs": [
    {
     "name": "stdout",
     "output_type": "stream",
     "text": [
      "Wall time: 2.25 s\n"
     ]
    }
   ],
   "source": [
    "%%time\n",
    "# save the restricted data to avoid computing them again\n",
    "file_path = \"cache/predictionData/restrictedPredictionData2014.csv\"\n",
    "dataRes.to_csv(path_or_buf= file_path)"
   ]
  },
  {
   "cell_type": "code",
   "execution_count": 129,
   "metadata": {
    "collapsed": false
   },
   "outputs": [
    {
     "data": {
      "text/html": [
       "<div>\n",
       "<table border=\"1\" class=\"dataframe\">\n",
       "  <thead>\n",
       "    <tr style=\"text-align: right;\">\n",
       "      <th></th>\n",
       "      <th>FL_DATE</th>\n",
       "      <th>UNIQUE_CARRIER</th>\n",
       "      <th>ORIGIN</th>\n",
       "      <th>DEST</th>\n",
       "      <th>CRS_DEP_TIME</th>\n",
       "      <th>CRS_ARR_TIME</th>\n",
       "      <th>ARR_DELAY</th>\n",
       "      <th>DISTANCE</th>\n",
       "      <th>AIRCRAFT_YEAR</th>\n",
       "      <th>AIRCRAFT_MFR</th>\n",
       "      <th>LAT</th>\n",
       "      <th>LONG</th>\n",
       "    </tr>\n",
       "  </thead>\n",
       "  <tbody>\n",
       "    <tr>\n",
       "      <th>0</th>\n",
       "      <td>2014-01-01</td>\n",
       "      <td>DL</td>\n",
       "      <td>SLC</td>\n",
       "      <td>ATL</td>\n",
       "      <td>940</td>\n",
       "      <td>1521</td>\n",
       "      <td>-3</td>\n",
       "      <td>1590</td>\n",
       "      <td>1992</td>\n",
       "      <td>BOEING</td>\n",
       "      <td>40.788333</td>\n",
       "      <td>-111.966667</td>\n",
       "    </tr>\n",
       "    <tr>\n",
       "      <th>1</th>\n",
       "      <td>2014-01-01</td>\n",
       "      <td>DL</td>\n",
       "      <td>ATL</td>\n",
       "      <td>SLC</td>\n",
       "      <td>1645</td>\n",
       "      <td>1900</td>\n",
       "      <td>-2</td>\n",
       "      <td>1590</td>\n",
       "      <td>1988</td>\n",
       "      <td>BOEING</td>\n",
       "      <td>33.636667</td>\n",
       "      <td>-84.428056</td>\n",
       "    </tr>\n",
       "    <tr>\n",
       "      <th>2</th>\n",
       "      <td>2014-01-01</td>\n",
       "      <td>DL</td>\n",
       "      <td>MCO</td>\n",
       "      <td>ATL</td>\n",
       "      <td>1330</td>\n",
       "      <td>1500</td>\n",
       "      <td>-8</td>\n",
       "      <td>404</td>\n",
       "      <td>2003</td>\n",
       "      <td>BOEING</td>\n",
       "      <td>28.429444</td>\n",
       "      <td>-81.308889</td>\n",
       "    </tr>\n",
       "  </tbody>\n",
       "</table>\n",
       "</div>"
      ],
      "text/plain": [
       "      FL_DATE UNIQUE_CARRIER ORIGIN DEST  CRS_DEP_TIME  CRS_ARR_TIME  \\\n",
       "0  2014-01-01             DL    SLC  ATL           940          1521   \n",
       "1  2014-01-01             DL    ATL  SLC          1645          1900   \n",
       "2  2014-01-01             DL    MCO  ATL          1330          1500   \n",
       "\n",
       "   ARR_DELAY  DISTANCE AIRCRAFT_YEAR                    AIRCRAFT_MFR  \\\n",
       "0         -3      1590          1992  BOEING                           \n",
       "1         -2      1590          1988  BOEING                           \n",
       "2         -8       404          2003  BOEING                           \n",
       "\n",
       "         LAT        LONG  \n",
       "0  40.788333 -111.966667  \n",
       "1  33.636667  -84.428056  \n",
       "2  28.429444  -81.308889  "
      ]
     },
     "execution_count": 129,
     "metadata": {},
     "output_type": "execute_result"
    }
   ],
   "source": [
    "dataRes.head(3)"
   ]
  },
  {
   "cell_type": "code",
   "execution_count": 130,
   "metadata": {
    "collapsed": false
   },
   "outputs": [
    {
     "name": "stdout",
     "output_type": "stream",
     "text": [
      "Index([u'FL_DATE', u'UNIQUE_CARRIER', u'ORIGIN', u'DEST', u'CRS_DEP_TIME',\n",
      "       u'CRS_ARR_TIME', u'ARR_DELAY', u'DISTANCE', u'AIRCRAFT_YEAR',\n",
      "       u'AIRCRAFT_MFR', u'LAT', u'LONG'],\n",
      "      dtype='object')\n",
      "Wall time: 809 ms\n"
     ]
    }
   ],
   "source": [
    "%%time\n",
    "# recover file\n",
    "file_path = \"cache/predictionData/dataRes.csv\"\n",
    "dataRes = pd.read_csv(file_path)\n",
    "dataRes.drop('Unnamed: 0', axis= 1, inplace = True)\n",
    "print dataRes.columns"
   ]
  },
  {
   "cell_type": "markdown",
   "metadata": {},
   "source": [
    "### Encoding categorical variables"
   ]
  },
  {
   "cell_type": "code",
   "execution_count": 174,
   "metadata": {
    "collapsed": false
   },
   "outputs": [],
   "source": [
    "from time import strptime\n",
    "days = {0:\"Mon\", 1:\"Tues\", 2:\"Wed\", 3:\"Thurs\", 4:\"Fri\", 5:\"Sat\", 6:\"Sun\"}\n",
    "months = {1:\"Jan\", 2:\"Feb\", 3:\"Mar\", 4:\"Apr\", 5:\"May\", 6:\"June\", 7:\"July\", 8:\"Aug\", 9:\"Sep\", \\\n",
    "          10:\"Oct\", 11:\"Nov\", 12:\"Dec\"}"
   ]
  },
  {
   "cell_type": "code",
   "execution_count": 175,
   "metadata": {
    "collapsed": false
   },
   "outputs": [],
   "source": [
    "def adjust_time(data):\n",
    "    monlist = np.empty(len(data), dtype = str)\n",
    "    daylist = np.empty(len(data), dtype = str)\n",
    "    \n",
    "    for i in xrange(len(data)):\n",
    "        date= strptime(data.FL_DATE.iloc[i], \"%Y-%M-%d\")\n",
    "        monlist[i] = months[date.tm_min]\n",
    "        daylist[i] = days[date.tm_wday]\n",
    "\n",
    "    return monlist, daylist"
   ]
  },
  {
   "cell_type": "code",
   "execution_count": 176,
   "metadata": {
    "collapsed": false
   },
   "outputs": [
    {
     "data": {
      "text/plain": [
       "Index([u'FL_DATE', u'UNIQUE_CARRIER', u'ORIGIN', u'DEST', u'CRS_DEP_TIME',\n",
       "       u'CRS_ARR_TIME', u'ARR_DELAY', u'DISTANCE', u'AIRCRAFT_YEAR',\n",
       "       u'AIRCRAFT_MFR', u'LAT', u'LONG'],\n",
       "      dtype='object')"
      ]
     },
     "execution_count": 176,
     "metadata": {},
     "output_type": "execute_result"
    }
   ],
   "source": [
    "dataRes.columns"
   ]
  },
  {
   "cell_type": "code",
   "execution_count": 177,
   "metadata": {
    "collapsed": false,
    "scrolled": true
   },
   "outputs": [
    {
     "name": "stdout",
     "output_type": "stream",
     "text": [
      "OK\n",
      "Index([u'UNIQUE_CARRIER', u'ORIGIN', u'DEST', u'CRS_DEP_TIME', u'CRS_ARR_TIME',\n",
      "       u'ARR_DELAY', u'DISTANCE', u'AIRCRAFT_YEAR', u'AIRCRAFT_MFR', u'LAT',\n",
      "       u'LONG', u'MONTH', u'DAY'],\n",
      "      dtype='object')\n",
      "Wall time: 15.6 s\n"
     ]
    }
   ],
   "source": [
    "%%time\n",
    "monlist, daylist = adjust_time(dataRes)\n",
    "print \"OK\"\n",
    "dataRes['MONTH'] = pd.Series(monlist, index=dataRes.index)\n",
    "dataRes['DAY'] = pd.Series(daylist, index=dataRes.index)\n",
    "if 'FL_DATE' in dataRes.columns:\n",
    "    dataRes.drop('FL_DATE', axis = 1, inplace= True)\n",
    "print dataRes.columns"
   ]
  },
  {
   "cell_type": "markdown",
   "metadata": {},
   "source": [
    "### Adjusting numerical data"
   ]
  },
  {
   "cell_type": "markdown",
   "metadata": {},
   "source": [
    "Let's change the script to put time in minutes."
   ]
  },
  {
   "cell_type": "code",
   "execution_count": 182,
   "metadata": {
    "collapsed": false
   },
   "outputs": [
    {
     "name": "stdout",
     "output_type": "stream",
     "text": [
      "before change:  0    1521\n",
      "1    1900\n",
      "Name: CRS_ARR_TIME, dtype: int64\n",
      "\n",
      "after change:  0     921\n",
      "1    1140\n",
      "Name: CRS_ARR_TIME_COR, dtype: int64\n",
      "Wall time: 1.23 s\n"
     ]
    }
   ],
   "source": [
    "%%time\n",
    "ti = lambda x: x/100*60+x%100\n",
    "print \"before change: \", dataRes.CRS_ARR_TIME[:2]\n",
    "dataRes['CRS_ARR_TIME_COR'] = dataRes.CRS_ARR_TIME.map(ti)\n",
    "dataRes['CRS_DEP_TIME_COR'] = dataRes.CRS_DEP_TIME.map(ti)\n",
    "dataRes.drop(['CRS_DEP_TIME', 'CRS_ARR_TIME'], axis = 1, inplace = True)\n",
    "print\n",
    "print \"after change: \", dataRes.CRS_ARR_TIME_COR[:2]"
   ]
  },
  {
   "cell_type": "markdown",
   "metadata": {},
   "source": [
    "We need to center and normalize all continuous data"
   ]
  },
  {
   "cell_type": "code",
   "execution_count": 183,
   "metadata": {
    "collapsed": false
   },
   "outputs": [],
   "source": [
    "# # change the age of the aircraft from a string type to an integer type\n",
    "dataRes.drop(dataRes[dataRes.AIRCRAFT_YEAR =='    '].index, inplace = True)\n",
    "dataRes['AIRCRAFT_YEAR_COR'] = dataRes.AIRCRAFT_YEAR.map(lambda x: int(x))\n",
    "dataRes.drop('AIRCRAFT_YEAR', axis = 1, inplace = True)"
   ]
  },
  {
   "cell_type": "code",
   "execution_count": 184,
   "metadata": {
    "collapsed": false
   },
   "outputs": [],
   "source": [
    "def normalize(array):\n",
    "    mean = np.mean(array)\n",
    "    std = np.std(array)\n",
    "    return [(x - mean)/std for x in array]"
   ]
  },
  {
   "cell_type": "code",
   "execution_count": 185,
   "metadata": {
    "collapsed": false
   },
   "outputs": [],
   "source": [
    "def normalize_data(data, feature_list):\n",
    "    ''' \n",
    "    Normalize data.\n",
    "\n",
    "    Parameters:\n",
    "    -----------\n",
    "\n",
    "    data: pandas.DataFrame\n",
    "       dataframe  \n",
    "\n",
    "    feature_list: <list 'string'>\n",
    "        List of features to be normalized\n",
    "    '''           \n",
    "\n",
    "    for feature in feature_list:\n",
    "        if feature in data.columns:\n",
    "            data[feature + '_NOR'] = normalize(data[feature].values)\n",
    "            data.drop(feature, axis =1, inplace=True)\n",
    "    return"
   ]
  },
  {
   "cell_type": "code",
   "execution_count": 187,
   "metadata": {
    "collapsed": false
   },
   "outputs": [
    {
     "name": "stdout",
     "output_type": "stream",
     "text": [
      "Wall time: 3.55 s\n"
     ]
    }
   ],
   "source": [
    "%%time\n",
    "normalize_feature = ['CRS_DEP_TIME_COR', 'CRS_ARR_TIME_COR', 'DISTANCE', 'LONG', 'LAT', 'AIRCRAFT_YEAR_COR']\n",
    "normalize_data(dataRes, normalize_feature)"
   ]
  },
  {
   "cell_type": "markdown",
   "metadata": {},
   "source": [
    "We are only interested in whetehr a flight will be more than 15 minutes late. So we adjust the ARR_DELAY colum to an indicator."
   ]
  },
  {
   "cell_type": "code",
   "execution_count": 188,
   "metadata": {
    "collapsed": false
   },
   "outputs": [],
   "source": [
    "dataRes['ARR_DELAY_COR'] = dataRes.ARR_DELAY.map(lambda x: (x >= 15))\n",
    "dataRes.drop('ARR_DELAY', axis = 1, inplace = True)"
   ]
  },
  {
   "cell_type": "code",
   "execution_count": 189,
   "metadata": {
    "collapsed": false
   },
   "outputs": [
    {
     "name": "stdout",
     "output_type": "stream",
     "text": [
      "Index([u'UNIQUE_CARRIER', u'ORIGIN', u'DEST', u'AIRCRAFT_MFR', u'MONTH',\n",
      "       u'DAY', u'CRS_DEP_TIME_COR_NOR', u'CRS_ARR_TIME_COR_NOR',\n",
      "       u'DISTANCE_NOR', u'LONG_NOR', u'LAT_NOR', u'AIRCRAFT_YEAR_COR_NOR',\n",
      "       u'ARR_DELAY_COR'],\n",
      "      dtype='object')\n"
     ]
    },
    {
     "data": {
      "text/html": [
       "<div>\n",
       "<table border=\"1\" class=\"dataframe\">\n",
       "  <thead>\n",
       "    <tr style=\"text-align: right;\">\n",
       "      <th></th>\n",
       "      <th>UNIQUE_CARRIER</th>\n",
       "      <th>ORIGIN</th>\n",
       "      <th>DEST</th>\n",
       "      <th>AIRCRAFT_MFR</th>\n",
       "      <th>MONTH</th>\n",
       "      <th>DAY</th>\n",
       "      <th>CRS_DEP_TIME_COR_NOR</th>\n",
       "      <th>CRS_ARR_TIME_COR_NOR</th>\n",
       "      <th>DISTANCE_NOR</th>\n",
       "      <th>LONG_NOR</th>\n",
       "      <th>LAT_NOR</th>\n",
       "      <th>AIRCRAFT_YEAR_COR_NOR</th>\n",
       "      <th>ARR_DELAY_COR</th>\n",
       "    </tr>\n",
       "  </thead>\n",
       "  <tbody>\n",
       "    <tr>\n",
       "      <th>0</th>\n",
       "      <td>DL</td>\n",
       "      <td>SLC</td>\n",
       "      <td>ATL</td>\n",
       "      <td>BOEING</td>\n",
       "      <td>J</td>\n",
       "      <td>W</td>\n",
       "      <td>-0.754789</td>\n",
       "      <td>-0.018805</td>\n",
       "      <td>0.558671</td>\n",
       "      <td>-1.102922</td>\n",
       "      <td>0.697530</td>\n",
       "      <td>-0.996933</td>\n",
       "      <td>False</td>\n",
       "    </tr>\n",
       "    <tr>\n",
       "      <th>1</th>\n",
       "      <td>DL</td>\n",
       "      <td>ATL</td>\n",
       "      <td>SLC</td>\n",
       "      <td>BOEING</td>\n",
       "      <td>J</td>\n",
       "      <td>W</td>\n",
       "      <td>0.733454</td>\n",
       "      <td>0.703785</td>\n",
       "      <td>0.558671</td>\n",
       "      <td>0.568072</td>\n",
       "      <td>-0.774714</td>\n",
       "      <td>-1.583051</td>\n",
       "      <td>False</td>\n",
       "    </tr>\n",
       "    <tr>\n",
       "      <th>2</th>\n",
       "      <td>DL</td>\n",
       "      <td>MCO</td>\n",
       "      <td>ATL</td>\n",
       "      <td>BOEING</td>\n",
       "      <td>J</td>\n",
       "      <td>W</td>\n",
       "      <td>0.050613</td>\n",
       "      <td>-0.088095</td>\n",
       "      <td>-1.256618</td>\n",
       "      <td>0.757338</td>\n",
       "      <td>-1.846675</td>\n",
       "      <td>0.614890</td>\n",
       "      <td>False</td>\n",
       "    </tr>\n",
       "  </tbody>\n",
       "</table>\n",
       "</div>"
      ],
      "text/plain": [
       "  UNIQUE_CARRIER ORIGIN DEST                    AIRCRAFT_MFR MONTH DAY  \\\n",
       "0             DL    SLC  ATL  BOEING                             J   W   \n",
       "1             DL    ATL  SLC  BOEING                             J   W   \n",
       "2             DL    MCO  ATL  BOEING                             J   W   \n",
       "\n",
       "   CRS_DEP_TIME_COR_NOR  CRS_ARR_TIME_COR_NOR  DISTANCE_NOR  LONG_NOR  \\\n",
       "0             -0.754789             -0.018805      0.558671 -1.102922   \n",
       "1              0.733454              0.703785      0.558671  0.568072   \n",
       "2              0.050613             -0.088095     -1.256618  0.757338   \n",
       "\n",
       "    LAT_NOR  AIRCRAFT_YEAR_COR_NOR ARR_DELAY_COR  \n",
       "0  0.697530              -0.996933         False  \n",
       "1 -0.774714              -1.583051         False  \n",
       "2 -1.846675               0.614890         False  "
      ]
     },
     "execution_count": 189,
     "metadata": {},
     "output_type": "execute_result"
    }
   ],
   "source": [
    "print dataRes.columns\n",
    "dataRes.head(3)"
   ]
  },
  {
   "cell_type": "markdown",
   "metadata": {
    "collapsed": true
   },
   "source": [
    "### Encode categorical variables"
   ]
  },
  {
   "cell_type": "code",
   "execution_count": 226,
   "metadata": {
    "collapsed": true
   },
   "outputs": [],
   "source": [
    "encoded_list = ['UNIQUE_CARRIER', 'ORIGIN', 'DEST', 'AIRCRAFT_MFR', 'MONTH','DAY']"
   ]
  },
  {
   "cell_type": "code",
   "execution_count": 241,
   "metadata": {
    "collapsed": false
   },
   "outputs": [
    {
     "name": "stdout",
     "output_type": "stream",
     "text": [
      "Wall time: 695 ms\n"
     ]
    }
   ],
   "source": [
    "%%time\n",
    "finalData = pd.get_dummies(dataRes, columns=encoded_list)"
   ]
  },
  {
   "cell_type": "code",
   "execution_count": 245,
   "metadata": {
    "collapsed": false
   },
   "outputs": [
    {
     "data": {
      "text/html": [
       "<div>\n",
       "<table border=\"1\" class=\"dataframe\">\n",
       "  <thead>\n",
       "    <tr style=\"text-align: right;\">\n",
       "      <th></th>\n",
       "      <th>CRS_DEP_TIME_COR_NOR</th>\n",
       "      <th>CRS_ARR_TIME_COR_NOR</th>\n",
       "      <th>DISTANCE_NOR</th>\n",
       "      <th>LONG_NOR</th>\n",
       "      <th>LAT_NOR</th>\n",
       "      <th>AIRCRAFT_YEAR_COR_NOR</th>\n",
       "      <th>ARR_DELAY_COR</th>\n",
       "      <th>UNIQUE_CARRIER_DL</th>\n",
       "      <th>UNIQUE_CARRIER_UA</th>\n",
       "      <th>ORIGIN_ATL</th>\n",
       "      <th>...</th>\n",
       "      <th>MONTH_J</th>\n",
       "      <th>MONTH_M</th>\n",
       "      <th>MONTH_N</th>\n",
       "      <th>MONTH_O</th>\n",
       "      <th>MONTH_S</th>\n",
       "      <th>DAY_F</th>\n",
       "      <th>DAY_M</th>\n",
       "      <th>DAY_S</th>\n",
       "      <th>DAY_T</th>\n",
       "      <th>DAY_W</th>\n",
       "    </tr>\n",
       "  </thead>\n",
       "  <tbody>\n",
       "    <tr>\n",
       "      <th>0</th>\n",
       "      <td>-0.754789</td>\n",
       "      <td>-0.018805</td>\n",
       "      <td>0.558671</td>\n",
       "      <td>-1.102922</td>\n",
       "      <td>0.697530</td>\n",
       "      <td>-0.996933</td>\n",
       "      <td>False</td>\n",
       "      <td>1</td>\n",
       "      <td>0</td>\n",
       "      <td>0</td>\n",
       "      <td>...</td>\n",
       "      <td>1</td>\n",
       "      <td>0</td>\n",
       "      <td>0</td>\n",
       "      <td>0</td>\n",
       "      <td>0</td>\n",
       "      <td>0</td>\n",
       "      <td>0</td>\n",
       "      <td>0</td>\n",
       "      <td>0</td>\n",
       "      <td>1</td>\n",
       "    </tr>\n",
       "    <tr>\n",
       "      <th>1</th>\n",
       "      <td>0.733454</td>\n",
       "      <td>0.703785</td>\n",
       "      <td>0.558671</td>\n",
       "      <td>0.568072</td>\n",
       "      <td>-0.774714</td>\n",
       "      <td>-1.583051</td>\n",
       "      <td>False</td>\n",
       "      <td>1</td>\n",
       "      <td>0</td>\n",
       "      <td>1</td>\n",
       "      <td>...</td>\n",
       "      <td>1</td>\n",
       "      <td>0</td>\n",
       "      <td>0</td>\n",
       "      <td>0</td>\n",
       "      <td>0</td>\n",
       "      <td>0</td>\n",
       "      <td>0</td>\n",
       "      <td>0</td>\n",
       "      <td>0</td>\n",
       "      <td>1</td>\n",
       "    </tr>\n",
       "    <tr>\n",
       "      <th>2</th>\n",
       "      <td>0.050613</td>\n",
       "      <td>-0.088095</td>\n",
       "      <td>-1.256618</td>\n",
       "      <td>0.757338</td>\n",
       "      <td>-1.846675</td>\n",
       "      <td>0.614890</td>\n",
       "      <td>False</td>\n",
       "      <td>1</td>\n",
       "      <td>0</td>\n",
       "      <td>0</td>\n",
       "      <td>...</td>\n",
       "      <td>1</td>\n",
       "      <td>0</td>\n",
       "      <td>0</td>\n",
       "      <td>0</td>\n",
       "      <td>0</td>\n",
       "      <td>0</td>\n",
       "      <td>0</td>\n",
       "      <td>0</td>\n",
       "      <td>0</td>\n",
       "      <td>1</td>\n",
       "    </tr>\n",
       "  </tbody>\n",
       "</table>\n",
       "<p>3 rows × 54 columns</p>\n",
       "</div>"
      ],
      "text/plain": [
       "   CRS_DEP_TIME_COR_NOR  CRS_ARR_TIME_COR_NOR  DISTANCE_NOR  LONG_NOR  \\\n",
       "0             -0.754789             -0.018805      0.558671 -1.102922   \n",
       "1              0.733454              0.703785      0.558671  0.568072   \n",
       "2              0.050613             -0.088095     -1.256618  0.757338   \n",
       "\n",
       "    LAT_NOR  AIRCRAFT_YEAR_COR_NOR ARR_DELAY_COR  UNIQUE_CARRIER_DL  \\\n",
       "0  0.697530              -0.996933         False                  1   \n",
       "1 -0.774714              -1.583051         False                  1   \n",
       "2 -1.846675               0.614890         False                  1   \n",
       "\n",
       "   UNIQUE_CARRIER_UA  ORIGIN_ATL  ...    MONTH_J  MONTH_M  MONTH_N  MONTH_O  \\\n",
       "0                  0           0  ...          1        0        0        0   \n",
       "1                  0           1  ...          1        0        0        0   \n",
       "2                  0           0  ...          1        0        0        0   \n",
       "\n",
       "   MONTH_S  DAY_F  DAY_M  DAY_S  DAY_T  DAY_W  \n",
       "0        0      0      0      0      0      1  \n",
       "1        0      0      0      0      0      1  \n",
       "2        0      0      0      0      0      1  \n",
       "\n",
       "[3 rows x 54 columns]"
      ]
     },
     "execution_count": 245,
     "metadata": {},
     "output_type": "execute_result"
    }
   ],
   "source": [
    "finalData.head(3)"
   ]
  },
  {
   "cell_type": "code",
   "execution_count": 246,
   "metadata": {
    "collapsed": false
   },
   "outputs": [
    {
     "name": "stdout",
     "output_type": "stream",
     "text": [
      "Wall time: 9.67 s\n"
     ]
    }
   ],
   "source": [
    "%%time\n",
    "# save the restricted data to avoid computing them again\n",
    "file_path = \"cache/predictionData/finalData.csv\"\n",
    "finalData.to_csv(path_or_buf= file_path)"
   ]
  },
  {
   "cell_type": "code",
   "execution_count": 247,
   "metadata": {
    "collapsed": false
   },
   "outputs": [
    {
     "name": "stdout",
     "output_type": "stream",
     "text": [
      "Wall time: 4.21 s\n"
     ]
    }
   ],
   "source": [
    "%%time\n",
    "# recover data2014 from cache/predictionData folder\n",
    "file_path = \"cache/predictionData/finalData.csv\"\n",
    "finalData = pd.read_csv(file_path)\n",
    "finalData.drop('Unnamed: 0', axis= 1, inplace = True)"
   ]
  },
  {
   "cell_type": "markdown",
   "metadata": {},
   "source": [
    "## 1. Baseline classifiers"
   ]
  },
  {
   "cell_type": "markdown",
   "metadata": {},
   "source": [
    "We will make prediction on the variable 'ARR_DEL15'. This variable takes the value 1 is the plane is more than 15 minutes late and 0 if not. Let's look at the baseline classifier, that is the classifiers that assign repectively 1 or 0 to 'ARR_DEL15' for every flight."
   ]
  },
  {
   "cell_type": "code",
   "execution_count": 248,
   "metadata": {
    "collapsed": true
   },
   "outputs": [],
   "source": [
    "from __future__ import division\n",
    "\n",
    "def baseline(data, target):\n",
    "    ''' \n",
    "    Compute the baseline classifiers along a target variable for a data set data\n",
    "\n",
    "    Parameters:\n",
    "    -----------\n",
    "\n",
    "    data: pandas.DataFrame\n",
    "       dataframe  \n",
    "\n",
    "    target: string\n",
    "        Column of data along wich we compute the baseline classifiers\n",
    "    '''    \n",
    "    \n",
    "    \n",
    "    score_baseline_1 = np.size(data[data[target] == 1][target].values) / np.size(data[target].values)\n",
    "    score_baseline_0 = np.size(data[data[target] == 0][target].values) / np.size(data[target].values)\n",
    "    \n",
    "    print \"baseline classifier everyone to 0: \", int(score_baseline_0*100) , \"%\"\n",
    "    print \"baseline classifier everyone to 1: \", int(score_baseline_1*100) , \"%\"\n",
    "   \n",
    "    return score_baseline_0, score_baseline_1"
   ]
  },
  {
   "cell_type": "code",
   "execution_count": 250,
   "metadata": {
    "collapsed": false
   },
   "outputs": [
    {
     "name": "stdout",
     "output_type": "stream",
     "text": [
      "baseline classifier everyone to 0:  78 %\n",
      "baseline classifier everyone to 1:  21 %\n"
     ]
    }
   ],
   "source": [
    "score_baseline_0, score_baseline_1 = baseline(finalData, 'ARR_DELAY_COR')"
   ]
  },
  {
   "cell_type": "markdown",
   "metadata": {},
   "source": [
    "### Split data into training/test sets"
   ]
  },
  {
   "cell_type": "markdown",
   "metadata": {},
   "source": [
    "First, let's split the data set into a training set and a test set. "
   ]
  },
  {
   "cell_type": "code",
   "execution_count": 252,
   "metadata": {
    "collapsed": true
   },
   "outputs": [],
   "source": [
    "from sklearn.cross_validation import train_test_split"
   ]
  },
  {
   "cell_type": "code",
   "execution_count": 253,
   "metadata": {
    "collapsed": true
   },
   "outputs": [],
   "source": [
    "def split(data, list_drop, target, test_size):\n",
    "    ''' \n",
    "    Splits the data into a training and a test set\n",
    "    Separates the training and test sets according to a feature set and a target set\n",
    "    Balance the features sets by retaining only fraction of its points\n",
    "\n",
    "    Parameters:\n",
    "    -----------\n",
    "\n",
    "    data: pandas.DataFrame\n",
    "       Flight dataframe  \n",
    "\n",
    "    list_drop: <list 'string'>\n",
    "        List of columns to exclude from the features set\n",
    "        \n",
    "    target: string\n",
    "        target column along whch we make the target set\n",
    "        \n",
    "    test_size: float\n",
    "        size of the test set\n",
    "    \n",
    "    '''    \n",
    "    \n",
    "    #split the dataset into a training set and a test set\n",
    "    dtrain, dtest = train_test_split(data, test_size = 0.3)\n",
    "    \n",
    "    Xtrain = dtrain.drop(list_drop, axis=1).values\n",
    "    ytrain = dtrain[target].values\n",
    "    Xtest = dtest.drop(list_drop, axis=1).values\n",
    "    ytest = dtest[target].values\n",
    "    \n",
    "    return Xtrain, ytrain, Xtest, ytest"
   ]
  },
  {
   "cell_type": "code",
   "execution_count": 255,
   "metadata": {
    "collapsed": false
   },
   "outputs": [],
   "source": [
    "Xtrain, ytrain, Xtest, ytest = split(finalData, ['ARR_DELAY_COR'], 'ARR_DELAY_COR', 0.4)"
   ]
  },
  {
   "cell_type": "markdown",
   "metadata": {},
   "source": [
    "## 2. Random Forest"
   ]
  },
  {
   "cell_type": "code",
   "execution_count": 256,
   "metadata": {
    "collapsed": false
   },
   "outputs": [],
   "source": [
    "from sklearn.ensemble import RandomForestClassifier"
   ]
  },
  {
   "cell_type": "code",
   "execution_count": 257,
   "metadata": {
    "collapsed": true
   },
   "outputs": [],
   "source": [
    "def score_random_forest(Xtrain, ytrain, Xtest, ytest, n_trees=10, criterion='gini', max_features='auto'):\n",
    "    ''' \n",
    "    Fits a random forest with (Xtrain ,ytrain)\n",
    "    Computes the score on (Xtest, ytest)\n",
    "\n",
    "    Parameters:\n",
    "    -----------\n",
    "\n",
    "    Xtrain: numpy 2D array\n",
    "       Feature training set\n",
    "\n",
    "    ytrain: numpy 1D array\n",
    "        Target training set\n",
    "    \n",
    "    Xtest: numpy 2D array\n",
    "       Feature test set\n",
    "\n",
    "    ytest: numpy 1D array\n",
    "        Target test set\n",
    "    \n",
    "    n_trees: int\n",
    "        number of trees in the forest\n",
    "    \n",
    "    criterion: string\n",
    "        loss function\n",
    "    \n",
    "    max_features: string or int\n",
    "        number of features used for every tree\n",
    "        \n",
    "    Outputs:\n",
    "    --------\n",
    "    \n",
    "    score_train: float\n",
    "        score on the train set\n",
    "    \n",
    "    score_test: float\n",
    "        score on the test set\n",
    "    \n",
    "    clf.feature_importances_\n",
    "        weights of each feature as used by the classifier\n",
    "    \n",
    "    ''' \n",
    "\n",
    "    clf= RandomForestClassifier(n_estimators=n_trees, criterion=criterion, max_features= max_features)\n",
    "    clf.fit(Xtrain, ytrain)\n",
    "    \n",
    "    score_train = clf.score(Xtrain, ytrain)\n",
    "    score_test = clf.score(Xtest, ytest)\n",
    "    \n",
    "    return  score_train, score_test, clf.feature_importances_"
   ]
  },
  {
   "cell_type": "code",
   "execution_count": 258,
   "metadata": {
    "collapsed": false
   },
   "outputs": [],
   "source": [
    "def best_parameters(Xtrain, ytrain, Xtest, ytest, criterions, nb_trees, nb_features):\n",
    "    ''' \n",
    "    Fits sequentially random forest classifiers\n",
    "    Adds each test score in a pandas.DataFrame with the number of trees, the loss function, the train score,\n",
    "    and the importance of each features\n",
    "    Returns a DataFrame with all scores\n",
    "\n",
    "    Parameters:\n",
    "    -----------\n",
    "\n",
    "    Xtrain: numpy 2D array\n",
    "       Feature training set\n",
    "\n",
    "    ytrain: numpy 1D array\n",
    "        Target training set\n",
    "    \n",
    "    Xtest: numpy 2D array\n",
    "       Feature test set\n",
    "\n",
    "    ytest: numpy 1D array\n",
    "        Target test set\n",
    "    \n",
    "    n_trees: <list int>\n",
    "        list of numbers of trees in the forest\n",
    "    \n",
    "    criterions: <list 'string'>\n",
    "        list of loss functions\n",
    "    \n",
    "    nb_features: <list int>\n",
    "        list of number of features in the forest\n",
    "        \n",
    "    Outputs:\n",
    "    --------\n",
    "    \n",
    "    score_tab: pandas.DataFrame\n",
    "        DataFrame of scores with associated parameters\n",
    "    \n",
    "    '''\n",
    "    \n",
    "    score_tab = pd.DataFrame(columns=['loss', 'nb_trees', 'nb_features', 'test_score', 'train_score', 'features_importance'])\n",
    "    \n",
    "    # counter will increment the index in score_tab\n",
    "    counter = 0 \n",
    "\n",
    "    for loss in criterions:\n",
    "        for n_estimators in nb_trees:\n",
    "            for max_features in nb_features:\n",
    "                \n",
    "                score_train, score_test, features_weights = \\\n",
    "                score_random_forest(Xtrain, ytrain, Xtest, ytest, n_trees=n_estimators, criterion=loss, max_features=max_features) \n",
    "                score_tab.loc[counter] = [loss, n_estimators, max_features, score_test, score_train, features_weights]\n",
    "                counter += 1\n",
    "\n",
    "    return score_tab"
   ]
  },
  {
   "cell_type": "code",
   "execution_count": 259,
   "metadata": {
    "collapsed": true
   },
   "outputs": [],
   "source": [
    "def classify_random_forest(data, list_drop, target, test_size=0.4, criterions = ['gini'], nb_trees=[10], nb_features = ['auto']):\n",
    "    ''' \n",
    "    Combines all above functions\n",
    "\n",
    "    Parameters:\n",
    "    -----------\n",
    "\n",
    "    See above.\n",
    "        \n",
    "    Outputs:\n",
    "    --------\n",
    "    \n",
    "    score_tab: pandas.DataFrame\n",
    "        DataFrame of scores with associated parameters\n",
    "    \n",
    "    '''\n",
    "    \n",
    "    Xtrain, ytrain, Xtest, ytest = split(data, list_drop, target, test_size)\n",
    "    scores =  best_parameters(Xtrain, ytrain, Xtest, ytest, criterions, nb_trees, nb_features)\n",
    "    return scores"
   ]
  },
  {
   "cell_type": "code",
   "execution_count": 262,
   "metadata": {
    "collapsed": true
   },
   "outputs": [],
   "source": [
    "criterions = ['gini']\n",
    "nb_trees = [25, 50, 100]\n",
    "nb_features = ['auto']\n",
    "test_size = 0.4"
   ]
  },
  {
   "cell_type": "code",
   "execution_count": 263,
   "metadata": {
    "collapsed": false
   },
   "outputs": [
    {
     "name": "stdout",
     "output_type": "stream",
     "text": [
      "   loss  nb_trees nb_features  test_score  train_score  \\\n",
      "0  gini        25        auto    0.726037     0.948465   \n",
      "1  gini        50        auto    0.725860     0.951069   \n",
      "2  gini       100        auto    0.728171     0.951831   \n",
      "\n",
      "                                 features_importance  \n",
      "0  [0.163223186479, 0.195587614632, 0.02539998298...  \n",
      "1  [0.165080172005, 0.199351953592, 0.02509314710...  \n",
      "2  [0.16313213511, 0.196903639617, 0.025514979356...  \n",
      "Wall time: 2min 52s\n"
     ]
    }
   ],
   "source": [
    "%%time\n",
    "randomForest2014 =  classify_random_forest(finalData, ['ARR_DELAY_COR'], 'ARR_DELAY_COR', test_size=test_size, criterions=criterions, nb_trees=nb_trees, nb_features=nb_features)\n",
    "print randomForest2014.head(3)"
   ]
  },
  {
   "cell_type": "markdown",
   "metadata": {},
   "source": [
    "### Important coefficients"
   ]
  },
  {
   "cell_type": "markdown",
   "metadata": {},
   "source": [
    "Let's now look at the importance coefficients, that the average usage of each coefficients in the random forest."
   ]
  },
  {
   "cell_type": "code",
   "execution_count": 282,
   "metadata": {
    "collapsed": false
   },
   "outputs": [
    {
     "name": "stdout",
     "output_type": "stream",
     "text": [
      "AIRCRAFT_YEAR_COR_NOR                          0.282699\n",
      "CRS_ARR_TIME_COR_NOR                           0.195588\n",
      "CRS_DEP_TIME_COR_NOR                           0.163223\n",
      "DAY_T                                          0.030229\n",
      "DAY_S                                          0.028838\n",
      "DISTANCE_NOR                                   0.025400\n",
      "DAY_F                                          0.024574\n",
      "DAY_W                                          0.023403\n",
      "DAY_M                                          0.023141\n",
      "MONTH_A                                        0.013087\n",
      "MONTH_M                                        0.012611\n",
      "MONTH_J                                        0.010943\n",
      "AIRCRAFT_MFR_AIRBUS INDUSTRIE                  0.010772\n",
      "AIRCRAFT_MFR_BOEING                            0.010439\n",
      "MONTH_O                                        0.009955\n",
      "LAT_NOR                                        0.009353\n",
      "LONG_NOR                                       0.009280\n",
      "MONTH_D                                        0.009244\n",
      "MONTH_F                                        0.009114\n",
      "MONTH_N                                        0.008742\n",
      "MONTH_S                                        0.008619\n",
      "AIRCRAFT_MFR_AIRBUS                            0.005520\n",
      "DEST_LAX                                       0.004375\n",
      "DEST_SFO                                       0.004331\n",
      "DEST_IAH                                       0.004176\n",
      "UNIQUE_CARRIER_UA                              0.004074\n",
      "DEST_ORD                                       0.003988\n",
      "DEST_EWR                                       0.003944\n",
      "ORIGIN_ORD                                     0.003879\n",
      "DEST_DEN                                       0.003845\n",
      "DEST_MCO                                       0.003753\n",
      "DEST_LGA                                       0.003192\n",
      "AIRCRAFT_MFR_MCDONNELL DOUGLAS AIRCRAFT CO     0.002780\n",
      "DEST_ATL                                       0.002754\n",
      "UNIQUE_CARRIER_DL                              0.002728\n",
      "DEST_MSP                                       0.002362\n",
      "DEST_JFK                                       0.002039\n",
      "DEST_DTW                                       0.001874\n",
      "ORIGIN_EWR                                     0.001844\n",
      "AIRCRAFT_MFR_MCDONNELL DOUGLAS CORPORATION     0.001792\n",
      "ORIGIN_DEN                                     0.001685\n",
      "ORIGIN_LAX                                     0.001667\n",
      "ORIGIN_IAH                                     0.001602\n",
      "DEST_SLC                                       0.001493\n",
      "ORIGIN_ATL                                     0.001427\n",
      "ORIGIN_SFO                                     0.001395\n",
      "AIRCRAFT_MFR_MCDONNELL DOUGLAS                 0.001389\n",
      "ORIGIN_LGA                                     0.001341\n",
      "ORIGIN_MCO                                     0.001289\n",
      "ORIGIN_DTW                                     0.001106\n",
      "ORIGIN_SLC                                     0.001060\n",
      "ORIGIN_MSP                                     0.001044\n",
      "ORIGIN_JFK                                     0.000999\n",
      "dtype: float64\n"
     ]
    }
   ],
   "source": [
    "coeffs = pd.Series(randomForest2014.ix[0, 'features_importance'], index=finalData.drop('ARR_DELAY_COR', axis =1).columns)\n",
    "coeffs.sort(ascending=False, inplace=True)\n",
    "print coeffs"
   ]
  },
  {
   "cell_type": "code",
   "execution_count": null,
   "metadata": {
    "collapsed": true
   },
   "outputs": [],
   "source": [
    "# save file to /data/ folder\n",
    "file_path = \"cache/predictionData/randomForest2014.csv\"\n",
    "randomForest2014.to_csv(path_or_buf= file_path)"
   ]
  },
  {
   "cell_type": "markdown",
   "metadata": {},
   "source": [
    "## 3. Neural Network"
   ]
  },
  {
   "cell_type": "markdown",
   "metadata": {},
   "source": [
    "*Describe Process*"
   ]
  },
  {
   "cell_type": "code",
   "execution_count": null,
   "metadata": {
    "collapsed": true
   },
   "outputs": [],
   "source": []
  }
 ],
 "metadata": {
  "kernelspec": {
   "display_name": "Python 2",
   "language": "python",
   "name": "python2"
  },
  "language_info": {
   "codemirror_mode": {
    "name": "ipython",
    "version": 2
   },
   "file_extension": ".py",
   "mimetype": "text/x-python",
   "name": "python",
   "nbconvert_exporter": "python",
   "pygments_lexer": "ipython2",
   "version": "2.7.10"
  }
 },
 "nbformat": 4,
 "nbformat_minor": 0
}
