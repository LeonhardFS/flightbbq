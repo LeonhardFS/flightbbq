{
 "cells": [
  {
   "cell_type": "markdown",
   "metadata": {},
   "source": [
    "This script extends the orginal dataset with real names for airports and airlines to support the visualizations in Tableau."
   ]
  },
  {
   "cell_type": "code",
   "execution_count": 1,
   "metadata": {
    "collapsed": true
   },
   "outputs": [],
   "source": [
    "import pandas as pd"
   ]
  },
  {
   "cell_type": "code",
   "execution_count": 50,
   "metadata": {
    "collapsed": true
   },
   "outputs": [],
   "source": [
    "# load dataset\n",
    "delay_df = pd.DataFrame.from_csv(\"../../cache/complete2014Data.csv\")"
   ]
  },
  {
   "cell_type": "code",
   "execution_count": 51,
   "metadata": {
    "collapsed": false
   },
   "outputs": [],
   "source": [
    "airline_names = pd.DataFrame.from_csv(\"../../data/airline_names.csv\").reset_index()\n",
    "airport_names = pd.DataFrame.from_csv(\"../../data/airport_names.csv\").reset_index()\n",
    "airport_names['ORIGIN_NAME'][1] = \"Chicago OHare International\"\n",
    "airport_names['DEST_NAME'][1] = \"Chicago OHare International\""
   ]
  },
  {
   "cell_type": "code",
   "execution_count": 52,
   "metadata": {
    "collapsed": true
   },
   "outputs": [],
   "source": [
    "delay_df = pd.merge(delay_df, airline_names, how='left', on='UNIQUE_CARRIER')\n",
    "delay_df = pd.merge(delay_df, airport_names[['ORIGIN_NAME', 'IATA']], how='left', left_on='ORIGIN', right_on='IATA')\n",
    "delay_df = pd.merge(delay_df, airport_names[['DEST_NAME', 'IATA']], how='left', left_on='DEST', right_on='IATA')\n",
    "delay_df = delay_df.drop(['IATA_x', 'IATA_y'], axis=1)"
   ]
  },
  {
   "cell_type": "markdown",
   "metadata": {},
   "source": [
    "store everything in the cache folder"
   ]
  },
  {
   "cell_type": "code",
   "execution_count": 53,
   "metadata": {
    "collapsed": true
   },
   "outputs": [],
   "source": [
    "delay_df.to_csv(\"../../cache/complete2014Data_tableauInput.csv\")"
   ]
  },
  {
   "cell_type": "code",
   "execution_count": null,
   "metadata": {
    "collapsed": true
   },
   "outputs": [],
   "source": []
  }
 ],
 "metadata": {
  "kernelspec": {
   "display_name": "Python 2",
   "language": "python",
   "name": "python2"
  },
  "language_info": {
   "codemirror_mode": {
    "name": "ipython",
    "version": 2
   },
   "file_extension": ".py",
   "mimetype": "text/x-python",
   "name": "python",
   "nbconvert_exporter": "python",
   "pygments_lexer": "ipython2",
   "version": "2.7.10"
  }
 },
 "nbformat": 4,
 "nbformat_minor": 0
}
