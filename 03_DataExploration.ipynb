{
 "cells": [
  {
   "cell_type": "markdown",
   "metadata": {},
   "source": [
    "# Data Exploration"
   ]
  },
  {
   "cell_type": "code",
   "execution_count": 25,
   "metadata": {
    "collapsed": true
   },
   "outputs": [],
   "source": [
    "import pandas as pd\n",
    "import matplotlib\n",
    "matplotlib.style.use('ggplot')\n",
    "%matplotlib inline"
   ]
  },
  {
   "cell_type": "markdown",
   "metadata": {},
   "source": [
    "Load Data:"
   ]
  },
  {
   "cell_type": "code",
   "execution_count": 2,
   "metadata": {
    "collapsed": true
   },
   "outputs": [],
   "source": [
    "complete2014Data = pd.DataFrame.from_csv('cache/complete2014Data.csv')"
   ]
  },
  {
   "cell_type": "markdown",
   "metadata": {
    "collapsed": true
   },
   "source": [
    "### 1. Get Basic Information About Dataset"
   ]
  },
  {
   "cell_type": "markdown",
   "metadata": {
    "collapsed": true
   },
   "source": [
    "Infos such as size of data, number of flights per months, number of delays in total and average."
   ]
  },
  {
   "cell_type": "markdown",
   "metadata": {},
   "source": [
    "*A flight delay is a when an airline flight takes off and/or lands later than its scheduled time. The Federal Aviation Administration (FAA) considers a flight to be delayed when it is 15 minutes later than its scheduled time.*\n",
    "\n",
    "Source: https://en.wikipedia.org/wiki/Flight_cancellation_and_delay"
   ]
  },
  {
   "cell_type": "markdown",
   "metadata": {},
   "source": [
    "Percentage of flights with arrival delays and departure delays:"
   ]
  },
  {
   "cell_type": "code",
   "execution_count": 3,
   "metadata": {
    "collapsed": false
   },
   "outputs": [
    {
     "name": "stdout",
     "output_type": "stream",
     "text": [
      "Percentage departure delays out of all flights:  0.205397048117\n",
      "Percentage arrival delays out of all flights:  0.213156062972\n",
      "Arrival delayed if departure was already delayed:  0.78331081604\n"
     ]
    }
   ],
   "source": [
    "departureDelayed = complete2014Data.DEP_DELAY >= 15\n",
    "arrivalDelayed = complete2014Data.ARR_DELAY >= 15\n",
    "bothDelayed = (complete2014Data.DEP_DELAY >= 15) & (complete2014Data.ARR_DELAY >= 15)\n",
    "\n",
    "print \"Percentage departure delays out of all flights: \", sum(departureDelayed)/float(len(complete2014Data))\n",
    "print \"Percentage arrival delays out of all flights: \", sum(arrivalDelayed)/float(len(complete2014Data))\n",
    "print \"Arrival delayed if departure was already delayed: \", sum(bothDelayed)/float(sum(arrivalDelayed))"
   ]
  },
  {
   "cell_type": "markdown",
   "metadata": {},
   "source": [
    "As we can see above, roughly 1/5 of all flights have a delayed departure, almost the same percentage of flights arrives late at the destination. Only a small percentage of delayed departures manage to catch up during the flight, since more than 78% of the delayed arrivals already suffered from a delayed departure."
   ]
  },
  {
   "cell_type": "markdown",
   "metadata": {},
   "source": [
    "###2. What Airports are the Worst/Best?"
   ]
  },
  {
   "cell_type": "markdown",
   "metadata": {},
   "source": [
    "Airport ranking (origin/destination) regarding delay times. For origin airports, we consider departure delay, and for destination airport we consider arrival delay.\n",
    "\n",
    "Differentiate between different delay types (weather, security, etc.), e.g. are certain airports more affected by weather delays than others?"
   ]
  },
  {
   "cell_type": "code",
   "execution_count": 41,
   "metadata": {
    "collapsed": false
   },
   "outputs": [
    {
     "data": {
      "text/plain": [
       "<matplotlib.text.Text at 0x111535a10>"
      ]
     },
     "execution_count": 41,
     "metadata": {},
     "output_type": "execute_result"
    },
    {
     "data": {
      "image/png": "[encoded data removed]",
      "text/plain": [
       "<matplotlib.figure.Figure at 0x11116e090>"
      ]
     },
     "metadata": {},
     "output_type": "display_data"
    }
   ],
   "source": [
    "threshold = 365 # Minimum number of flights per day\n",
    "\n",
    "OADelay = complete2014Data[['ORIGIN', 'DEP_DELAY']] \n",
    "OADelay = OADelay[OADelay.DEP_DELAY.notnull()] # Ignore entries with NaN values\n",
    "OADelay.ix[(OADelay.DEP_DELAY < 0), 'DEP_DELAY'] = 0 # Don't consider early departures\n",
    "\n",
    "gbOA = OADelay.groupby('ORIGIN').agg(['mean', 'count'])\n",
    "gbOA = gbOA[gbOA['DEP_DELAY']['count'] > threshold] # Select only origin airports with at least 1 flight per day\n",
    "gbOA = gbOA.sort([('DEP_DELAY','mean')], ascending = True)\n",
    "ax = gbOA.head(10)['DEP_DELAY']['mean'].plot(kind='bar')\n",
    "ax.set_ylabel('Avg. departure delay (mins)')\n",
    "ax.set_xlabel('Origin airport')\n",
    "ax.set_title('Least delay by origin airport')\n"
   ]
  },
  {
   "cell_type": "code",
   "execution_count": 42,
   "metadata": {
    "collapsed": false
   },
   "outputs": [
    {
     "data": {
      "text/plain": [
       "<matplotlib.text.Text at 0x1117302d0>"
      ]
     },
     "execution_count": 42,
     "metadata": {},
     "output_type": "execute_result"
    },
    {
     "data": {
      "image/png": "[encoded data removed]",
      "text/plain": [
       "<matplotlib.figure.Figure at 0x111053b50>"
      ]
     },
     "metadata": {},
     "output_type": "display_data"
    }
   ],
   "source": [
    "gbOA = gbOA.sort([('DEP_DELAY','mean')], ascending = False)\n",
    "ax2 = gbOA.head(10)['DEP_DELAY']['mean'].plot(kind='bar')\n",
    "ax2.set_ylabel('Avg. departure delay (mins)')\n",
    "ax2.set_xlabel('Origin airport')\n",
    "ax2.set_title('Greatest delay by origin airport')"
   ]
  },
  {
   "cell_type": "code",
   "execution_count": 48,
   "metadata": {
    "collapsed": false
   },
   "outputs": [],
   "source": [
    "# print complete2014Data.columns\n",
    "\n",
    "# complete2014Data[['DEP_DELAY', 'ARR_DELAY', 'CARRIER_DELAY', 'NAS_DELAY', 'SECURITY_DELAY', 'WEATHER_DELAY', 'LATE_AIRCRAFT_DELAY']]"
   ]
  },
  {
   "cell_type": "code",
   "execution_count": 44,
   "metadata": {
    "collapsed": false
   },
   "outputs": [
    {
     "data": {
      "text/plain": [
       "<matplotlib.text.Text at 0x1118d5c90>"
      ]
     },
     "execution_count": 44,
     "metadata": {},
     "output_type": "execute_result"
    },
    {
     "data": {
      "image/png": "[encoded data removed]",
      "text/plain": [
       "<matplotlib.figure.Figure at 0x111706bd0>"
      ]
     },
     "metadata": {},
     "output_type": "display_data"
    }
   ],
   "source": [
    "DADelay = complete2014Data[['DEST', 'ARR_DELAY']] \n",
    "DADelay = DADelay[DADelay.ARR_DELAY.notnull()] # Ignore entries with NaN values\n",
    "DADelay.ix[(DADelay.ARR_DELAY < 0), 'ARR_DELAY'] = 0 # Don't consider early departures\n",
    "\n",
    "gbDA = DADelay.groupby('DEST').agg(['mean', 'count'])\n",
    "gbDA = gbDA[gbDA['ARR_DELAY']['count'] > threshold] # Select only origin airports with at least 1 flight per day\n",
    "gbDA = gbDA.sort([('ARR_DELAY','mean')], ascending = True)\n",
    "\n",
    "ax = gbDA.head(10)['ARR_DELAY']['mean'].plot(kind='bar')\n",
    "ax.set_ylabel('Avg. arrival delay (mins)')\n",
    "ax.set_xlabel('Destination airport')\n",
    "ax.set_title('Least delay by destination airport')"
   ]
  },
  {
   "cell_type": "code",
   "execution_count": 45,
   "metadata": {
    "collapsed": false
   },
   "outputs": [
    {
     "data": {
      "text/plain": [
       "<matplotlib.text.Text at 0x111b8be90>"
      ]
     },
     "execution_count": 45,
     "metadata": {},
     "output_type": "execute_result"
    },
    {
     "data": {
      "image/png": "[encoded data removed]",
      "text/plain": [
       "<matplotlib.figure.Figure at 0x11160be90>"
      ]
     },
     "metadata": {},
     "output_type": "display_data"
    }
   ],
   "source": [
    "gbDA = gbDA.sort([('ARR_DELAY','mean')], ascending = False)\n",
    "ax2 = gbDA.head(10)['ARR_DELAY']['mean'].plot(kind='bar')\n",
    "ax2.set_ylabel('Avg. arrival delay (mins)')\n",
    "ax2.set_xlabel('Destination airport')\n",
    "ax2.set_title('Greatest delay by destination airport')"
   ]
  },
  {
   "cell_type": "markdown",
   "metadata": {},
   "source": [
    "###3. What Airlines are the Worst/Best? What About Specific Routes?"
   ]
  },
  {
   "cell_type": "markdown",
   "metadata": {},
   "source": [
    "Delay ranking regarding airlines and routes. We filter out any inactive airlines as it's no longer relevant."
   ]
  },
  {
   "cell_type": "code",
   "execution_count": 49,
   "metadata": {
    "collapsed": false
   },
   "outputs": [
    {
     "data": {
      "text/html": [
       "<div>\n",
       "<table border=\"1\" class=\"dataframe\">\n",
       "  <thead>\n",
       "    <tr style=\"text-align: right;\">\n",
       "      <th></th>\n",
       "      <th>index</th>\n",
       "      <th>FL_DATE</th>\n",
       "      <th>UNIQUE_CARRIER</th>\n",
       "      <th>TAIL_NUM</th>\n",
       "      <th>FL_NUM</th>\n",
       "      <th>ORIGIN</th>\n",
       "      <th>DEST</th>\n",
       "      <th>CRS_DEP_TIME</th>\n",
       "      <th>DEP_TIME</th>\n",
       "      <th>DEP_DELAY</th>\n",
       "      <th>...</th>\n",
       "      <th>DISTANCE</th>\n",
       "      <th>CARRIER_DELAY</th>\n",
       "      <th>WEATHER_DELAY</th>\n",
       "      <th>NAS_DELAY</th>\n",
       "      <th>SECURITY_DELAY</th>\n",
       "      <th>LATE_AIRCRAFT_DELAY</th>\n",
       "      <th>AIRCRAFT_YEAR</th>\n",
       "      <th>AIRCRAFT_MFR</th>\n",
       "      <th>LAT</th>\n",
       "      <th>LONG</th>\n",
       "    </tr>\n",
       "  </thead>\n",
       "  <tbody>\n",
       "    <tr>\n",
       "      <th>0</th>\n",
       "      <td>0</td>\n",
       "      <td>2014-01-01</td>\n",
       "      <td>AA</td>\n",
       "      <td>N338AA</td>\n",
       "      <td>1</td>\n",
       "      <td>JFK</td>\n",
       "      <td>LAX</td>\n",
       "      <td>900</td>\n",
       "      <td>914</td>\n",
       "      <td>14</td>\n",
       "      <td>...</td>\n",
       "      <td>2475</td>\n",
       "      <td>NaN</td>\n",
       "      <td>NaN</td>\n",
       "      <td>NaN</td>\n",
       "      <td>NaN</td>\n",
       "      <td>NaN</td>\n",
       "      <td>1987</td>\n",
       "      <td>BOEING</td>\n",
       "      <td>40.633333</td>\n",
       "      <td>-73.783333</td>\n",
       "    </tr>\n",
       "    <tr>\n",
       "      <th>1</th>\n",
       "      <td>1</td>\n",
       "      <td>2014-01-02</td>\n",
       "      <td>AA</td>\n",
       "      <td>N338AA</td>\n",
       "      <td>1</td>\n",
       "      <td>JFK</td>\n",
       "      <td>LAX</td>\n",
       "      <td>900</td>\n",
       "      <td>857</td>\n",
       "      <td>-3</td>\n",
       "      <td>...</td>\n",
       "      <td>2475</td>\n",
       "      <td>NaN</td>\n",
       "      <td>NaN</td>\n",
       "      <td>NaN</td>\n",
       "      <td>NaN</td>\n",
       "      <td>NaN</td>\n",
       "      <td>1987</td>\n",
       "      <td>BOEING</td>\n",
       "      <td>40.633333</td>\n",
       "      <td>-73.783333</td>\n",
       "    </tr>\n",
       "    <tr>\n",
       "      <th>2</th>\n",
       "      <td>2</td>\n",
       "      <td>2014-01-03</td>\n",
       "      <td>AA</td>\n",
       "      <td>N323AA</td>\n",
       "      <td>1</td>\n",
       "      <td>JFK</td>\n",
       "      <td>LAX</td>\n",
       "      <td>900</td>\n",
       "      <td>NaN</td>\n",
       "      <td>NaN</td>\n",
       "      <td>...</td>\n",
       "      <td>2475</td>\n",
       "      <td>NaN</td>\n",
       "      <td>NaN</td>\n",
       "      <td>NaN</td>\n",
       "      <td>NaN</td>\n",
       "      <td>NaN</td>\n",
       "      <td>NaN</td>\n",
       "      <td>NaN</td>\n",
       "      <td>40.633333</td>\n",
       "      <td>-73.783333</td>\n",
       "    </tr>\n",
       "    <tr>\n",
       "      <th>3</th>\n",
       "      <td>3</td>\n",
       "      <td>2014-01-04</td>\n",
       "      <td>AA</td>\n",
       "      <td>N327AA</td>\n",
       "      <td>1</td>\n",
       "      <td>JFK</td>\n",
       "      <td>LAX</td>\n",
       "      <td>900</td>\n",
       "      <td>1005</td>\n",
       "      <td>65</td>\n",
       "      <td>...</td>\n",
       "      <td>2475</td>\n",
       "      <td>0</td>\n",
       "      <td>59</td>\n",
       "      <td>0</td>\n",
       "      <td>0</td>\n",
       "      <td>0</td>\n",
       "      <td>1986</td>\n",
       "      <td>BOEING</td>\n",
       "      <td>40.633333</td>\n",
       "      <td>-73.783333</td>\n",
       "    </tr>\n",
       "    <tr>\n",
       "      <th>4</th>\n",
       "      <td>4</td>\n",
       "      <td>2014-01-05</td>\n",
       "      <td>AA</td>\n",
       "      <td>N323AA</td>\n",
       "      <td>1</td>\n",
       "      <td>JFK</td>\n",
       "      <td>LAX</td>\n",
       "      <td>900</td>\n",
       "      <td>1050</td>\n",
       "      <td>110</td>\n",
       "      <td>...</td>\n",
       "      <td>2475</td>\n",
       "      <td>0</td>\n",
       "      <td>110</td>\n",
       "      <td>0</td>\n",
       "      <td>0</td>\n",
       "      <td>0</td>\n",
       "      <td>NaN</td>\n",
       "      <td>NaN</td>\n",
       "      <td>40.633333</td>\n",
       "      <td>-73.783333</td>\n",
       "    </tr>\n",
       "  </tbody>\n",
       "</table>\n",
       "<p>5 rows × 30 columns</p>\n",
       "</div>"
      ],
      "text/plain": [
       "   index     FL_DATE UNIQUE_CARRIER TAIL_NUM  FL_NUM ORIGIN DEST  \\\n",
       "0      0  2014-01-01             AA   N338AA       1    JFK  LAX   \n",
       "1      1  2014-01-02             AA   N338AA       1    JFK  LAX   \n",
       "2      2  2014-01-03             AA   N323AA       1    JFK  LAX   \n",
       "3      3  2014-01-04             AA   N327AA       1    JFK  LAX   \n",
       "4      4  2014-01-05             AA   N323AA       1    JFK  LAX   \n",
       "\n",
       "   CRS_DEP_TIME  DEP_TIME  DEP_DELAY    ...      DISTANCE  CARRIER_DELAY  \\\n",
       "0           900       914         14    ...          2475            NaN   \n",
       "1           900       857         -3    ...          2475            NaN   \n",
       "2           900       NaN        NaN    ...          2475            NaN   \n",
       "3           900      1005         65    ...          2475              0   \n",
       "4           900      1050        110    ...          2475              0   \n",
       "\n",
       "   WEATHER_DELAY  NAS_DELAY  SECURITY_DELAY  LATE_AIRCRAFT_DELAY  \\\n",
       "0            NaN        NaN             NaN                  NaN   \n",
       "1            NaN        NaN             NaN                  NaN   \n",
       "2            NaN        NaN             NaN                  NaN   \n",
       "3             59          0               0                    0   \n",
       "4            110          0               0                    0   \n",
       "\n",
       "   AIRCRAFT_YEAR                    AIRCRAFT_MFR        LAT       LONG  \n",
       "0           1987  BOEING                          40.633333 -73.783333  \n",
       "1           1987  BOEING                          40.633333 -73.783333  \n",
       "2            NaN                             NaN  40.633333 -73.783333  \n",
       "3           1986  BOEING                          40.633333 -73.783333  \n",
       "4            NaN                             NaN  40.633333 -73.783333  \n",
       "\n",
       "[5 rows x 30 columns]"
      ]
     },
     "execution_count": 49,
     "metadata": {},
     "output_type": "execute_result"
    }
   ],
   "source": [
    "# Get a list of active airlines by their IATA codes\n",
    "activeAirlines_l = [l.strip() for l in open(\"data/cur_airlines.txt\",\"r\").readlines()]\n",
    "activeAirlines = dict( zip(activeAirlines_l, range(len(activeAirlines_l))) )\n",
    "\n",
    "AA = complete2014Data[complete2014Data.UNIQUE_CARRIER.isin(activeAirlines)]\n",
    "AA.head()\n"
   ]
  },
  {
   "cell_type": "markdown",
   "metadata": {},
   "source": [
    "###4. How Does Weather Affect Delays?"
   ]
  },
  {
   "cell_type": "markdown",
   "metadata": {},
   "source": [
    "Combine with external weather data and show interesting correlations"
   ]
  },
  {
   "cell_type": "code",
   "execution_count": null,
   "metadata": {
    "collapsed": true
   },
   "outputs": [],
   "source": []
  }
 ],
 "metadata": {
  "kernelspec": {
   "display_name": "Python 2",
   "language": "python",
   "name": "python2"
  },
  "language_info": {
   "codemirror_mode": {
    "name": "ipython",
    "version": 2
   },
   "file_extension": ".py",
   "mimetype": "text/x-python",
   "name": "python",
   "nbconvert_exporter": "python",
   "pygments_lexer": "ipython2",
   "version": "2.7.10"
  }
 },
 "nbformat": 4,
 "nbformat_minor": 0
}
