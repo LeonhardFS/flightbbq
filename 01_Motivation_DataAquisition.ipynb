{
 "cells": [
  {
   "cell_type": "markdown",
   "metadata": {},
   "source": [
    "# Why is My Flight Delayed – Index and Motivation"
   ]
  },
  {
   "cell_type": "markdown",
   "metadata": {},
   "source": [
    "<img src=\"images/DelayedBoard.jpg\" align=\"left\" width=\"600\" height=\"600\">"
   ]
  },
  {
   "cell_type": "markdown",
   "metadata": {},
   "source": [
    "This notebook describes the motivation for our project and provides the index for our following process notebooks."
   ]
  },
  {
   "cell_type": "markdown",
   "metadata": {},
   "source": [
    "* [1 Motivation](#1-Motivation)\n",
    "    * [1.1 Why is My Flight Delayed?](#1.1-Why-is-My-Flight-Delayed?)"
   ]
  },
  {
   "cell_type": "markdown",
   "metadata": {},
   "source": [
    "## 1 Motivation"
   ]
  },
  {
   "cell_type": "markdown",
   "metadata": {},
   "source": [
    "### 1.1 Why is My Flight Delayed?"
   ]
  },
  {
   "cell_type": "markdown",
   "metadata": {},
   "source": [
    "Flight delays are a major problem. Almost everybody has experienced a delayed or cancelled flight before and knows how annoying it is to wait at airports and maybe even miss important meetings at the destination. Delays are not only a problem for individual customers, but also for the airlines and the US economy in general: In 2010, researchers at the University of California (Berkeley) found that flight delays lead to total costs of more than $32.9 billion!\n",
    "\n",
    "However, usually customers do not know the reason for their delayed arrival. Therefore, we want to understand what causes the delays and if we are able to estimate the expected delay for a given flight in the future.\n",
    "\n",
    "A few of the main questions we are planning to investigate in our project are:\n",
    "\n",
    "* Is there a difference between airports? What are the airports that are most heavily affected by delays?\n",
    "* We would like to ask a similar question for the airlines? Which airlines usually arrive on time? Which airline is the worst?\n",
    "* Can we detect any seasonality in the data? Are there more delays in the winter (e.g. because of bad weather) or in the summer (e.g. because of summer holidays)? During the days, at which time should I book my flight to avoid delays?\n",
    "* Sometimes flights can't leave the airport because of last-minute repairs or other problems caused by the carrier. Has the age of the aircraft any influence on these carrier delays?\n",
    "* Is it possible to build a model that estimates the delay for a given flight?"
   ]
  }
 ],
 "metadata": {
  "kernelspec": {
   "display_name": "Python 2",
   "language": "python",
   "name": "python2"
  },
  "language_info": {
   "codemirror_mode": {
    "name": "ipython",
    "version": 2
   },
   "file_extension": ".py",
   "mimetype": "text/x-python",
   "name": "python",
   "nbconvert_exporter": "python",
   "pygments_lexer": "ipython2",
   "version": "2.7.10"
  }
 },
 "nbformat": 4,
 "nbformat_minor": 0
}
